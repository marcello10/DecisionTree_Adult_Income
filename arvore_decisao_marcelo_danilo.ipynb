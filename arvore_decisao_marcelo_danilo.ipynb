{
  "cells": [
    {
      "cell_type": "markdown",
      "metadata": {
        "id": "Fqy4JOxKt3pW"
      },
      "source": [
        "# **1. Preparando o ambiente de trabalho**"
      ]
    },
    {
      "cell_type": "code",
      "execution_count": null,
      "metadata": {
        "id": "ZoWqsRwNnQLd"
      },
      "outputs": [],
      "source": [
        "# Imports\n",
        "import pandas as pd\n",
        "import numpy as np\n",
        "import matplotlib.pyplot as plt\n",
        "%matplotlib inline\n",
        "import matplotlib as m\n",
        "import seaborn as sns\n",
        "from collections import Counter"
      ]
    },
    {
      "cell_type": "markdown",
      "metadata": {
        "id": "b_qaoi60uzb2"
      },
      "source": [
        "# **2. Objetivos**"
      ]
    },
    {
      "cell_type": "markdown",
      "metadata": {
        "id": "VgkaiXhfu7Vz"
      },
      "source": [
        "O objetivo deste trabalho é realizar uma análise exploratória de dados do conjunto de dados \"Adult\" do UCI Machine Learning Repository. E criar um modelo de classificação que classifique os respondentes da pesquisa de acordo com a renda a partir das variáveis de característica, obtendo valores corretos para a variável alvo. Utilizando o método de aprendizado de máquina denominado Árvore de decisão. Para saber quais características são importantes para determinar se a renda anaual é superior ou inferior a $50.00 Dólares por ano.\n"
      ]
    },
    {
      "cell_type": "markdown",
      "metadata": {
        "id": "08k1gx0CvTts"
      },
      "source": [
        "# **3. O Dataset**"
      ]
    },
    {
      "cell_type": "markdown",
      "metadata": {
        "id": "ae1L-9EVvc4i"
      },
      "source": [
        "O conjunto de dados \"Adult\" contém informações sobre renda, educação, idade, sexo e raça, etc. O conjunto de dados contém *48.842* entradas com um total de 15 colunas representando diferentes atributos das pessoas, conforme a tabela abaixo. O conjunto de dados foi divido previamente em dois datasets, o dataset de de treino **adult.data** que contém *32.560* entradas, e o dataset de testes **adult.test** que contém *16.282* entradas. Os dados foram coletados em 1994 e a variável alvo,  **Renda Anual** (*income*) é dividida em duas classes: *\"Alta Renda\"* ($\\gt50K$) e *\"Baixa Renda\"* ($\\leq50K$).\n",
        "\n",
        "\n",
        "\n"
      ]
    },
    {
      "cell_type": "markdown",
      "metadata": {
        "id": "xoGeyL61uMLO"
      },
      "source": [
        "| Coluna          | Variável                  | Definição                                                                                     | Tipo de Variável                             | Tipo de Dado |\n",
        "| :------------  | :------------            | :------                                                                                       | :------                                      |  ----:       |\n",
        "| age             |  Idade                    |   Idade do respondente                                                                        |   Discreta (de 17 a 90)                      |  int64       |\n",
        "| workclass       |  Classe de trabalho       |   Classificação do trabalho do respondente                                                    |   Categórica (9 categorias)                     |  object      |\n",
        "| fnlwgt          |  Peso final               |   O número de pessoas que acreditam no senso                          |   Discreta                                   |  int64       |\n",
        "| education       |  Escolaridade             |   O nível de escolaridade mais elevado obtido pelo respondente                                |   Ordinal (16 categorias)                    |  object      |\n",
        "| education-num   |  Número de escolaridade   |   O número de escolaridade associada ao 'education' do respondente                                             |   Discreta (de 1 a 16)                       |  int64       |\n",
        "| marital-status  |  Estado Civil             |   O estado civil do respondente                                                               |   Categórica (7 categorias)                     |  object      |\n",
        "| occupation      |  Ocupação                 |   Qual o tipo de trabalho do respondente                                                      |   Categórica (15 categorias)                    |  object      |\n",
        "| relationship    |  Relacionamento familiar  |   Tipo de relacionamento familiar do respondente                                              |   Categórica (6 categorias)                     |  object      |\n",
        "| race            |  Raça                     |   A raça do respondente                                                                       |   Categórica (5 categorias)                     |  object      |\n",
        "| sex             |  Sexo                     |   O sexo do do respondente                                                                    |   Categórica (2 categorias)                     |  object      |\n",
        "| capital-gain    |  Ganho de capital         |   Valor de ganhos de capital que o respondente obteve sobre sua poupança, investimentos e pensão   |   Contínua                                   |  int64       |\n",
        "| capital-loss    |  Perda de capital         |   Valor de perda de capital que o respondente obteve sobre sua poupança, investimentos e pensão    |   Contínua                                   |  int64       |\n",
        "| hours-per-week  |  Horas por semana         |   Quantidade de horas trabalhadas por semana pelo respondente                                 |   Discreta (de 1 a 99)                       |  int64       |\n",
        "| native-country  |  País de origem           |   Nacionalidade do respondente                                                                |   Categórica (42 países)                        |  object      |\n",
        "| income          |  Renda                    |   Classificação se o respondente é de baixa ou de alta renda                                  |   Booleano (≤ USD 50 mil, > USD 50 mil)      |  object      |"
      ]
    },
    {
      "cell_type": "markdown",
      "metadata": {
        "id": "0p7M_x3vTM5F"
      },
      "source": [
        "Os dados foram obtidos do repositório *UCI Machine Learning Repository* por meio do download do arquivo *.zip* que contém os arquivos *adult.data*, *adult.names*, *adult.test*, *Index*, *old.adult.names*. Então usamos o arquivo *adult.data*, que contém o dataset de treino, e transformando-o em um Pandas Dataframe."
      ]
    },
    {
      "cell_type": "code",
      "execution_count": null,
      "metadata": {
        "id": "9oQMYIm0o9cP"
      },
      "outputs": [],
      "source": [
        "# Carregando os dados dos arquivos baixados do site UCI Machine Learning.\n",
        "\n",
        "colunas = ['age', 'workclass', 'fnlwgt', 'education', 'education-num', 'marital-status', 'occupation', 'relationship', 'race', 'sex', 'capital-gain', 'capital-loss', 'hours-per-week', 'native-country', 'income']\n",
        "\n",
        "data = pd.read_csv('data/adult.data', sep = ', ', names = colunas, engine = 'python', skiprows = 1)"
      ]
    },
    {
      "cell_type": "code",
      "execution_count": null,
      "metadata": {
        "colab": {
          "base_uri": "https://localhost:8080/",
          "height": 310
        },
        "id": "8m_ZBzGTqh_w",
        "outputId": "099d0282-07cb-4b15-d686-fb4d178410ac"
      },
      "outputs": [],
      "source": [
        "# Visualizando o dataset\n",
        "data.head()"
      ]
    },
    {
      "cell_type": "code",
      "execution_count": null,
      "metadata": {
        "colab": {
          "base_uri": "https://localhost:8080/"
        },
        "id": "2yg3eKVxShCe",
        "outputId": "281bc26f-00ac-47e3-c274-e0afb32b7b02"
      },
      "outputs": [],
      "source": [
        "# Observando o formato do Dataframe\n",
        "data.shape"
      ]
    },
    {
      "cell_type": "markdown",
      "metadata": {
        "id": "YKosDTtlchaY"
      },
      "source": [
        "Verificando a distribuição da variável alvo, Renda, no dataset."
      ]
    },
    {
      "cell_type": "code",
      "execution_count": null,
      "metadata": {
        "colab": {
          "base_uri": "https://localhost:8080/"
        },
        "id": "Ve9VLJIXcpku",
        "outputId": "0e6b0c80-a5f1-42dd-d143-3a37962133bd"
      },
      "outputs": [],
      "source": [
        "data['income'].value_counts()"
      ]
    },
    {
      "cell_type": "code",
      "execution_count": null,
      "metadata": {
        "id": "iaOAX-RNdFqz"
      },
      "outputs": [],
      "source": [
        "# Criando uma função para avaliar a simetria entre os valores de cada categoria de renda no dataset.\n",
        "\n",
        "def calcula_porcent_renda(data):\n",
        "  rotulo = data.values[:, -1]\n",
        "  contador = Counter(rotulo)\n",
        "  for key, value in contador.items():\n",
        "      porcentagem = value / len(rotulo) * 100\n",
        "      print(f\"A Classe: {key}, tem o total de {value} indivíduos, o que representa {porcentagem:.2f}% dos dados coletados.\")"
      ]
    },
    {
      "cell_type": "code",
      "execution_count": null,
      "metadata": {
        "colab": {
          "base_uri": "https://localhost:8080/"
        },
        "id": "DFgJZ3Ssgwuo",
        "outputId": "3554cca7-9b1f-4f88-aa2c-8517055de348"
      },
      "outputs": [],
      "source": [
        "# Calculando a porcentagem de cada categoria de renda\n",
        "\n",
        "calcula_porcent_renda(data)"
      ]
    },
    {
      "cell_type": "markdown",
      "metadata": {
        "id": "4A-wxpd4g3fs"
      },
      "source": [
        "Nota-se que há um grande desbalanço de renda entre os participantes da pesquisa, com aqueles considerados de baixa renda ($\\leq50K$) apresentando mais de três vezes o número de participantes considerados de alta renda ($\\gt50K$).\n",
        "\n",
        "\n"
      ]
    },
    {
      "cell_type": "markdown",
      "metadata": {
        "id": "SOeWIYN8PDy5"
      },
      "source": [
        "Observamos, então, as variáveis do dataset junto com seus tipos de dados e a presença de valores faltantes."
      ]
    },
    {
      "cell_type": "code",
      "execution_count": null,
      "metadata": {
        "colab": {
          "base_uri": "https://localhost:8080/"
        },
        "id": "L5cEpL9eShCe",
        "outputId": "76259dc5-bc47-40b8-95d6-4723c0f7494b",
        "scrolled": false
      },
      "outputs": [],
      "source": [
        "# Informações sobre as colunas e os dados\n",
        "data.info()"
      ]
    },
    {
      "cell_type": "code",
      "execution_count": null,
      "metadata": {},
      "outputs": [],
      "source": [
        "print(f\"dados únicos do workclass:{data['workclass'].unique()}\\n\")\n",
        "print(f\"dados únicos do occupation:{data['occupation'].unique()}\\n\")\n",
        "print(f\"dados únicos do native-country:{data['native-country'].unique()}\\n\")"
      ]
    },
    {
      "cell_type": "markdown",
      "metadata": {
        "id": "8ncdEtUTPIsV"
      },
      "source": [
        "Embora não tenha-se observado que existem valores faltantes, algumas categorias apresentam dados não respondidos. Por hora, faremos a substituição dos valores faltantes do caractere \"**?**\" para o objecto **nan**. E em seguida contaremos quantos valores desconhecidos há em cada coluna."
      ]
    },
    {
      "cell_type": "code",
      "execution_count": null,
      "metadata": {
        "id": "2Yreh8LhO8vu"
      },
      "outputs": [],
      "source": [
        "# Substituindo os valores faltantes do caractere '?' para o objeto nan,\n",
        "\n",
        "from numpy import nan\n",
        "data = data.replace('?',nan)"
      ]
    },
    {
      "cell_type": "code",
      "execution_count": null,
      "metadata": {
        "id": "NM1l-Nxdn2Nf"
      },
      "outputs": [],
      "source": [
        "# Criando funlção para calcular os número e a percentagem de valores faltantes em cada coluna\n",
        "\n",
        "def valoresFaltantes(data):\n",
        "\t\tvalores_faltantes = data.isnull().sum()\n",
        "\t\tvalores_faltantes = pd.DataFrame(valores_faltantes, columns= ['Valores Faltantes'])\n",
        "\t\tj=1\n",
        "\t\tsum_total=len(data)\n",
        "\t\tvalores_faltantes['Porcentagem (%)'] = round(( (valores_faltantes['Valores Faltantes'] / sum_total) * 100), 1)\n",
        "\t\treturn valores_faltantes.sort_values('Porcentagem (%)',ascending=False)\n"
      ]
    },
    {
      "cell_type": "code",
      "execution_count": null,
      "metadata": {
        "colab": {
          "base_uri": "https://localhost:8080/",
          "height": 519
        },
        "id": "MEGeeoa6FWis",
        "outputId": "29c7574d-907d-4eb2-9f3f-38b0c8a80215"
      },
      "outputs": [],
      "source": [
        "# Calculando o número, a percentagem dos valores faltantes.\n",
        "\n",
        "valoresFaltantes(data)"
      ]
    },
    {
      "cell_type": "markdown",
      "metadata": {
        "id": "i_krGGUUPDy6"
      },
      "source": [
        "Há valores faltantes apenas nas variáveis ***workclass***, ***occupation*** e ***native-country***, onde é possível notar que o número de valores faltantes nas variáveis ***workclass*** e ***occupation*** são praticamente iguais. Logo, quase sempre que houver um valor faltante em ***workclass***, haverá um valor faltante em ***occupation***."
      ]
    },
    {
      "cell_type": "markdown",
      "metadata": {
        "id": "JOKg0o11F3aN"
      },
      "source": [
        "# **4 Explorando as variáveis**"
      ]
    },
    {
      "cell_type": "markdown",
      "metadata": {
        "id": "0iq-1IefG8h8"
      },
      "source": [
        "Separando as variáveis numéricas e categóricas em conjuntos de dados diferentes para tratá-las separadamente."
      ]
    },
    {
      "cell_type": "code",
      "execution_count": null,
      "metadata": {},
      "outputs": [],
      "source": [
        "data['native-country'].value_counts()"
      ]
    },
    {
      "cell_type": "markdown",
      "metadata": {},
      "source": [
        "<p>Observe que a maioria dos respondentes são Estadunidenses. Portanto, vamos considerar os demais países como 'outros'.</p>"
      ]
    },
    {
      "cell_type": "code",
      "execution_count": null,
      "metadata": {
        "id": "-FM8g6fiHRak"
      },
      "outputs": [],
      "source": [
        "# Criando conjuntos de dados diferentes para as variáveis numéricas e categóricas.\n",
        "\n",
        "num_data= data[['age', 'fnlwgt', 'education-num', 'capital-gain', 'capital-loss', 'hours-per-week']]\n",
        "cat_data= data.select_dtypes(include=['object'])\n",
        "cat_data['native-country'] = cat_data['native-country'].apply(lambda country: country if country=='United-States' else 'Others')\n",
        "cat_data['native-country'].unique()\n"
      ]
    },
    {
      "cell_type": "markdown",
      "metadata": {
        "id": "GUrm3CSOHPyN"
      },
      "source": [
        "## **4.1 Explorando as variáveis numéricas**"
      ]
    },
    {
      "cell_type": "markdown",
      "metadata": {
        "id": "dssUDoRhIs0t"
      },
      "source": [
        "Usamos o método **.describe** do Pandas para fazemos um sumário com as estatísticas descritivas básicas de todas as vairáveis numéricas, como os valores mínimos, médios, máximos, desvio padrão, etc."
      ]
    },
    {
      "cell_type": "code",
      "execution_count": null,
      "metadata": {
        "colab": {
          "base_uri": "https://localhost:8080/",
          "height": 300
        },
        "id": "Mp3JePOQ3b5a",
        "outputId": "09c912ae-8baf-49eb-98c8-575b22c9120f"
      },
      "outputs": [],
      "source": [
        "# Sumário das variáveis numéricas\n",
        "\n",
        "pd.set_option('display.float_format', lambda x: '%.3f' % x)\n",
        "data.describe()"
      ]
    },
    {
      "cell_type": "markdown",
      "metadata": {},
      "source": [
        "<p>Os dados de 'hours-per-week' possuem valores mínimo de <b>1h</b> e máximo de <b>99h</b>. Ou seja, provavelmente foram informados incorretamente ou erros na entrada dos dados.\n",
        "</p>"
      ]
    },
    {
      "cell_type": "markdown",
      "metadata": {
        "id": "TtWJBRi9J5Z_"
      },
      "source": [
        "Plotamos os histogramas com as distribuições de todas as variáveis numéricas"
      ]
    },
    {
      "cell_type": "code",
      "execution_count": null,
      "metadata": {
        "colab": {
          "base_uri": "https://localhost:8080/",
          "height": 976
        },
        "id": "iel0BW19KWfZ",
        "outputId": "408d07b0-80db-464e-c849-9c82e773f722"
      },
      "outputs": [],
      "source": [
        "num_data.hist(bins=20, figsize=(20, 15), histtype='step')\n",
        "plt.show()"
      ]
    },
    {
      "cell_type": "markdown",
      "metadata": {
        "id": "XHXd3Xj7aZEk"
      },
      "source": [
        "##### **Observações:**"
      ]
    },
    {
      "cell_type": "markdown",
      "metadata": {
        "id": "wY6Fy9ygMMRZ"
      },
      "source": [
        "\n",
        "\n",
        "*   O pico da variável **idade** é idade abaixo de 50 anos.\n",
        "*   O máximo da variável **fnlwgts** está abaixo de 400k.\n",
        "*   Muito poucas pessoas investem em capital e há alguns casos discrepantes, como:\n",
        "    *   Pessoas que ganham mais de US$ 90.000,00 por meio de **ganhos de capital**.\n",
        "    *   No entanto, para pessoas que sofreram  **perda de capital** a perda média é cerca de US$ 2.000,00.\n",
        "    *   Obseve que a maioria das pessoas não tiveram perda de capital.\n",
        "*   A maioria das pessoas trabalha cerca de **40 horas semanais**.\n",
        "    *   Também há outliers como alguns casos de pessoas trabalhando **100 horas** e **1 hora** por semana.\n",
        "\n",
        "\n",
        "\n"
      ]
    },
    {
      "cell_type": "markdown",
      "metadata": {
        "id": "ZQLoxfHMbkYL"
      },
      "source": [
        "#### **Correlações entre as variáveis numéricas**"
      ]
    },
    {
      "cell_type": "markdown",
      "metadata": {
        "id": "I-jLADkqOYK2"
      },
      "source": [
        "Iremos, então, analisar a correlação entre as variáveis numéricas."
      ]
    },
    {
      "cell_type": "code",
      "execution_count": null,
      "metadata": {
        "id": "T4usmSYPOSMd"
      },
      "outputs": [],
      "source": [
        "# Criando Função para gerar o heatmap com as correlações das variáveis numéricas.\n",
        "\n",
        "def heatMap(data):\n",
        "  sns.heatmap(data.corr(), annot=True, fmt='.3f')\n",
        "  #print(data.corr())"
      ]
    },
    {
      "cell_type": "code",
      "execution_count": null,
      "metadata": {
        "colab": {
          "base_uri": "https://localhost:8080/",
          "height": 529
        },
        "id": "LxqObOFpZI_H",
        "outputId": "a03d279c-3d56-496b-e7c1-6fce24252bcc"
      },
      "outputs": [],
      "source": [
        "heatMap(num_data)"
      ]
    },
    {
      "cell_type": "markdown",
      "metadata": {
        "id": "10Xt7yPzasuP"
      },
      "source": [
        "##### **Observações:**"
      ]
    },
    {
      "cell_type": "markdown",
      "metadata": {
        "id": "l78z299jaPPs"
      },
      "source": [
        "*   A variável **fnlwgt** não possui correlação significativa com nenhuma das outras variáveis, portanto, é uma variável descartável para a análise.\n",
        "*   As variáveis **número de escolaridade**, **horas trabalhadas por semana** e **ganho capital** têm algumas correlações que valem a pena serem exploradas e podem ser melhoradas."
      ]
    },
    {
      "cell_type": "markdown",
      "metadata": {
        "id": "QB80y1h1cPjy"
      },
      "source": [
        "#### **Relações entre as variáveis numéricas e a Renda**"
      ]
    },
    {
      "cell_type": "code",
      "execution_count": null,
      "metadata": {
        "colab": {
          "base_uri": "https://localhost:8080/",
          "height": 143
        },
        "id": "P4MaIEypcQv9",
        "outputId": "26e391e7-e899-4aa8-cfe9-405e2770df70"
      },
      "outputs": [],
      "source": [
        "pd.pivot_table(data, index= ['income'], values=num_data.columns)"
      ]
    },
    {
      "cell_type": "markdown",
      "metadata": {
        "id": "yS6KzsociQp9"
      },
      "source": [
        "##### **Observações:**"
      ]
    },
    {
      "cell_type": "markdown",
      "metadata": {
        "id": "Z2LYgDKvin8o"
      },
      "source": [
        "*   Pessoas com maior **renda** apresentam valores elevados em todos os atributos."
      ]
    },
    {
      "cell_type": "markdown",
      "metadata": {
        "id": "6lBQQNw9jJe5"
      },
      "source": [
        "## **4.2 Explorando as variáveis categóricas**"
      ]
    },
    {
      "cell_type": "markdown",
      "metadata": {
        "id": "X8USMoqUjNog"
      },
      "source": [
        "Começaremos plotando os gráficos de barra de todas as variáveis categóricas."
      ]
    },
    {
      "cell_type": "code",
      "execution_count": null,
      "metadata": {
        "colab": {
          "base_uri": "https://localhost:8080/",
          "height": 1000
        },
        "id": "yaKRfUS_uWD3",
        "outputId": "f39767bb-a11a-4588-c85f-e996a5400292",
        "scrolled": false
      },
      "outputs": [],
      "source": [
        "for i in cat_data.columns:\n",
        "    plt.figure(figsize=(25, 5))\n",
        "    sns.countplot(data= cat_data, x= i)"
      ]
    },
    {
      "cell_type": "markdown",
      "metadata": {
        "id": "boPGniRbzV5E"
      },
      "source": [
        "##### **Observações:**"
      ]
    },
    {
      "cell_type": "markdown",
      "metadata": {
        "id": "6QQt5AnTzVp7"
      },
      "source": [
        "\n",
        "\n",
        "*   A maioria das pessoas trabalham no setor privado, com outras distribuídas quase uniformemente entre vários empregos governamentais e como autônomos.\n",
        "*   A maioria das pessoas possui diploma de Ensino Superior, do Ensino Médio ou cursou alguma faculdade. A distribuição é muito semelhante à dos anos de escolaridade (education-number), fato que pode ser melhor explorado.\n",
        "*   A maioria das pessoas casaram, sendo poucas as que divorciaram ou tornaram-se viúvas. Enquanto as demais não se casaram.\n",
        "*   As ocupações estão, em sua maioria, distribuídas de maneira uniforme e é difícil ver uma tendência quando há tantas categorias.\n",
        "*   A maioria das pessoas são maridos ou não têm família.\n",
        "*   A maioria das pessoas é branca, sendo os negros o único grupo etnico com número considerável na amostra.\n",
        "*   Há mais homens do que mulheres na amostra, o que também pode ser inferido do facto de a maioria das pessoas serem maridos.\n",
        "*   A grande maioria dos entrevistados é dos EUA.\n",
        "*   Como comentado anteriormente, há muito mais pessoas com Baixa Renda (inferior a 50 mil), do que pessoas de Alta Renda (superior à 50 mil), o que mostra que os dados estão muito desequilibrados."
      ]
    },
    {
      "cell_type": "markdown",
      "metadata": {
        "id": "vrHlaHlY1Cg-"
      },
      "source": [
        "# **5. Engenharia de atributos**"
      ]
    },
    {
      "cell_type": "markdown",
      "metadata": {
        "id": "tJbaB-hz17zE"
      },
      "source": [
        "A maioria dos atributos categóricos são muito confusos, com número excessivo de categorias. Então, podemos fazer uma engenharia de atributos para agrupar categorias semelhantes para aprimorar os atributos.\n",
        "\n",
        "Começamos observando o número de categorias de cada variável categórica."
      ]
    },
    {
      "cell_type": "code",
      "execution_count": null,
      "metadata": {
        "colab": {
          "base_uri": "https://localhost:8080/"
        },
        "id": "lr4RRQe52bNt",
        "outputId": "51905151-e87b-4659-bbb6-73f49be23def",
        "scrolled": true
      },
      "outputs": [],
      "source": [
        "# Computando valores únicos de cada variável categórica\n",
        "\n",
        "cat_rotulos = ['workclass', 'education', 'marital-status', 'occupation', 'relationship', 'race', 'sex', 'native-country']\n",
        "wkclass = data.workclass.unique()\n",
        "edu = data.education.unique()\n",
        "estciv = data['marital-status'].unique()\n",
        "ocup = data.occupation.unique()\n",
        "relat = data.relationship.unique()\n",
        "race = data.race.unique()\n",
        "sex = data.sex.unique()\n",
        "country = data['native-country'].unique()\n",
        "\n",
        "# Gerando um array com os valores únicos de cada variável.\n",
        "\n",
        "data_col=[wkclass, edu, estciv, ocup, relat, race, sex, country]\n",
        "\n",
        "# Uniformizando o tamanho dos arrays\n",
        "\n",
        "cat_col = []\n",
        "for i in data_col:\n",
        "    cat_col.append(np.pad(i, (0, (len(country)-len(i))), 'empty'))\n",
        "cat_col.append(country)\n",
        "\n",
        "# Gerando o dataframe com os valores das variáveis categóricas.\n",
        "\n",
        "categorias = pd.DataFrame(dict(zip(cat_rotulos, cat_col)))\n",
        "categorias.head()"
      ]
    },
    {
      "cell_type": "code",
      "execution_count": null,
      "metadata": {
        "id": "cOiFuvBuPDzC"
      },
      "outputs": [],
      "source": []
    },
    {
      "cell_type": "markdown",
      "metadata": {
        "id": "LkbDYopt2DFi"
      },
      "source": [
        "#### **Classe de trabalho** (*workclass*)"
      ]
    },
    {
      "cell_type": "markdown",
      "metadata": {
        "id": "Gdy0Znye5Kqr"
      },
      "source": [
        "Iremos iniciar reduzindo o número de categorias da variável Classe de trabalho (workclass), agrupando diversas categorias que apresentam afinidade entre si, criando apenas 4 grupos representando setores distintos da economia, são eles:\n",
        "*   Privado\n",
        "*   Governo\n",
        "*   Autônomo\n",
        "*   Outros"
      ]
    },
    {
      "cell_type": "code",
      "execution_count": null,
      "metadata": {
        "colab": {
          "base_uri": "https://localhost:8080/",
          "height": 745
        },
        "id": "gjiNNAKh1AfG",
        "outputId": "6f8e97fc-ed9f-46a4-b49b-0623a8bedc20"
      },
      "outputs": [],
      "source": [
        "# Agrupando as classes de trabalho por afinidade.\n",
        "\n",
        "data['workclass'].replace(['State-gov', 'Federal-gov', 'Local-gov'], 'Government', inplace=True)\n",
        "data['workclass'].replace(['Self-emp-not-inc', 'Self-emp-inc'], 'Self', inplace=True)\n",
        "data['workclass'].replace(['Without-pay', 'Never-worked'], 'Others', inplace=True)\n",
        "\n",
        "plt.figure(figsize=(16, 4))\n",
        "sns.countplot(data=data, x='workclass')\n",
        "plt.figure(figsize=(16, 4))\n",
        "sns.countplot(data=data, x='workclass', hue='income')"
      ]
    },
    {
      "cell_type": "markdown",
      "metadata": {
        "id": "75vF5z6U45Ux"
      },
      "source": [
        "#### **Educação e Escolaridade** (*education* e *education-number*)"
      ]
    },
    {
      "cell_type": "markdown",
      "metadata": {
        "id": "bOC2el2L45GV"
      },
      "source": [
        "Verificando a interseção entre as variáveis Educação e Escolaridade"
      ]
    },
    {
      "cell_type": "code",
      "execution_count": null,
      "metadata": {
        "colab": {
          "base_uri": "https://localhost:8080/"
        },
        "id": "UiWCjfOK46VH",
        "outputId": "aa099059-95b5-4f09-8f12-e76b016ae534"
      },
      "outputs": [],
      "source": [
        "# Verificando a interseção entre educação e escolaridade.\n",
        "\n",
        "data.groupby('education').nunique()['education-num']"
      ]
    },
    {
      "cell_type": "markdown",
      "metadata": {
        "id": "fcOX0FxS7X2S"
      },
      "source": [
        "Isso implica que *Educação* (education) e *Escolaridade* (education-num) representam exatamente a mesma informação. E já está diretamente codificada na base de dados, então podemos usar apenas um dos dois e descartar o outro."
      ]
    },
    {
      "cell_type": "code",
      "execution_count": null,
      "metadata": {
        "id": "RnGB-sh37LmO"
      },
      "outputs": [],
      "source": [
        "# Agrupando os níveis de escolaridd por afinidade.\n",
        "\n",
        "data['education'].replace(['11th', '9th', '7th-8th', '5th-6th', '10th', '1st-4th', 'Preschool', '12th'], 'School-Dropout', inplace=True)\n",
        "data['education'].replace(['Some-college', 'Assoc-acdm', 'Assoc-voc'], 'College', inplace=True)\n",
        "data['education'].replace('Prof-school', 'Masters', inplace=True)"
      ]
    },
    {
      "cell_type": "code",
      "execution_count": null,
      "metadata": {
        "id": "Qk5b8mkEPDzD",
        "outputId": "7e3003a2-95b6-4042-bd2e-627694bd1526"
      },
      "outputs": [],
      "source": [
        "# Plotando os gráficos\n",
        "\n",
        "plt.figure(figsize=(16, 4))\n",
        "sns.countplot(data=data, x='education')\n",
        "\n",
        "plt.figure(figsize=(16,4))\n",
        "sns.countplot(data=data, x='education', hue='income')"
      ]
    },
    {
      "cell_type": "markdown",
      "metadata": {
        "id": "DXdRODYd90uw"
      },
      "source": [
        "##### **Observações:**"
      ]
    },
    {
      "cell_type": "markdown",
      "metadata": {
        "id": "qM4X20Vy90iy"
      },
      "source": [
        "*   Mestres e Doutores são muito bem remunerados em comparação com demais níveis de ensino.\n",
        "*   A maioria das pessoas de baixa renda abandonou o ensino básico ou concluiu apenas o ensino médio\n"
      ]
    },
    {
      "cell_type": "markdown",
      "metadata": {
        "id": "g21LOJ3g-D2Z"
      },
      "source": [
        "#### **Estado Civil** (*marital-status*)"
      ]
    },
    {
      "cell_type": "markdown",
      "metadata": {
        "id": "Cd1Za3y9-DxE"
      },
      "source": [
        "Iremos reduzir o número de categorias da variável Estado Civil (marital-status), agrupando diversas categorias que apresentam afinidade entre si, criando apenas 4 grupos representando setores distintos da economia, são eles:\n",
        "*   Solteiro(a)\n",
        "*   Casado(a)\n",
        "*   Divorciado(a)\n",
        "*   Viúvo(a)  "
      ]
    },
    {
      "cell_type": "code",
      "execution_count": null,
      "metadata": {
        "colab": {
          "base_uri": "https://localhost:8080/",
          "height": 747
        },
        "id": "MEB-kqzr-e8q",
        "outputId": "012ccf01-e3a4-424a-f4b5-ae7d455efc88"
      },
      "outputs": [],
      "source": [
        "# Agrupando os estados civis por afinidade.\n",
        "\n",
        "data['marital-status'].replace(['Married-AF-spouse', 'Married-civ-spouse', 'Married-spouse-absent'], 'Married', inplace=True)\n",
        "data['marital-status'].replace('Divorced', 'Separated',inplace=True)\n",
        "\n",
        "plt.figure(figsize=(16, 4))\n",
        "sns.countplot(data=data, x='marital-status')\n",
        "\n",
        "plt.figure(figsize=(16,4))\n",
        "sns.countplot(data=data, x='marital-status', hue='income')"
      ]
    },
    {
      "cell_type": "markdown",
      "metadata": {
        "id": "HDO5d5Re_8cX"
      },
      "source": [
        "##### **Observações:**"
      ]
    },
    {
      "cell_type": "markdown",
      "metadata": {
        "id": "E_1wjBfhAcYh"
      },
      "source": [
        "*   Quase todas as pessoas com renda superior a 50 mil são casadas.\n",
        "*   As pessoas solteiras têm renda comparativamente muito mais baixa."
      ]
    },
    {
      "cell_type": "markdown",
      "metadata": {
        "id": "cY2D-KhnA0AF"
      },
      "source": [
        "#### **Ocupação** (*occupation*)"
      ]
    },
    {
      "cell_type": "markdown",
      "metadata": {
        "id": "GRDtCnpQA0AN"
      },
      "source": [
        "Iremos iniciar reduzindo o número de categorias da variável Ocupação (occupation), agrupando diversas categorias pelo tipo de trabalho que desempenham, criando apenas 6 grupos representando setores distintos da economia, são eles:\n",
        "*   Trabalhadores Operacional (Operários)\n",
        "*   Trabalhadores Administrativo e Executivo\n",
        "*   Trabalhadores do Conhecimento\n",
        "*   Trabalhadores em Vendas e Serviços\n",
        "*   Trabalhadores do Setor primário (agricultura, pecuária, pesca, extrativismo)\n",
        "*   Militares"
      ]
    },
    {
      "cell_type": "code",
      "execution_count": null,
      "metadata": {
        "colab": {
          "base_uri": "https://localhost:8080/",
          "height": 747
        },
        "id": "g5Lfc0k7Au7e",
        "outputId": "e7178c10-440b-464d-8895-9e2e05d254e9"
      },
      "outputs": [],
      "source": [
        "# Agrupando os ocupações por setor de trabalho.\n",
        "\n",
        "data['occupation'].replace(['Tech-support', 'Craft-repair', 'Handlers-cleaners', 'Transport-moving', 'Machine-op-inspct'], 'Blue-collar', inplace=True)\n",
        "data['occupation'].replace(['Exec-managerial', 'Adm-clerical'], 'White-collar', inplace=True)\n",
        "data['occupation'].replace('Prof-specialty', 'Gold-collar', inplace=True)\n",
        "data['occupation'].replace(['Other-service', 'Sales', 'Priv-house-serv', 'Protective-serv'], 'Pink-collar', inplace=True)\n",
        "data['occupation'].replace('Farming-fishing', 'Green-collar', inplace=True)\n",
        "data['occupation'].replace('Armed-Forces', 'Brown-collar', inplace=True)\n",
        "\n",
        "plt.figure(figsize=(16, 4))\n",
        "sns.countplot(data=data, x='occupation')\n",
        "\n",
        "plt.figure(figsize=(16,4))\n",
        "sns.countplot(data=data, x='occupation', hue='income')"
      ]
    },
    {
      "cell_type": "markdown",
      "metadata": {
        "id": "SkJYy4qJCh6P"
      },
      "source": [
        "##### **Observações:**"
      ]
    },
    {
      "cell_type": "markdown",
      "metadata": {
        "id": "TOYdOHkzCh18"
      },
      "source": [
        "*   Operários e trabalhadores do setor de vendas e serviços têm a renda mais baixa.\n",
        "*   Trabalhadores do conhecimento são as profissões mais bem pagas."
      ]
    },
    {
      "cell_type": "markdown",
      "metadata": {
        "id": "8iagxPK9DPsX"
      },
      "source": [
        "#### **País de origem** (*native-country*)"
      ]
    },
    {
      "cell_type": "markdown",
      "metadata": {
        "id": "5FRehPPXDPsX"
      },
      "source": [
        "Iremos reduzie o número de categorias da variável Paíos de origem (native-country), agrupando as nacionalidades em 2 grupos distintos, são eles:\n",
        "*   Estados Unidos\n",
        "*   Outros"
      ]
    },
    {
      "cell_type": "code",
      "execution_count": null,
      "metadata": {
        "colab": {
          "base_uri": "https://localhost:8080/",
          "height": 745
        },
        "id": "L4ahNrhvDPsY",
        "outputId": "d184bf63-3584-4124-c4e4-12236477e97a"
      },
      "outputs": [],
      "source": [
        "# Agrupando as nacionalidades em Estados Unidos e outros.\n",
        "\n",
        "data['native-country'] = data['native-country'].map(lambda country: 'US' if country == 'United-States' else 'Other')\n",
        "\n",
        "data.head()"
      ]
    },
    {
      "cell_type": "code",
      "execution_count": null,
      "metadata": {
        "id": "cgOsF8r-PDzF",
        "outputId": "208ca044-0e69-49ee-de65-d73deeeeb3d7"
      },
      "outputs": [],
      "source": [
        "# Plotando os gráficos\n",
        "\n",
        "plt.figure(figsize=(16, 4))\n",
        "sns.countplot(data=data, x='native-country')\n",
        "\n",
        "plt.figure(figsize=(16,4))\n",
        "sns.countplot(data=data, x='native-country', hue='income')"
      ]
    },
    {
      "cell_type": "markdown",
      "metadata": {
        "id": "nfB5uRxBDPsY"
      },
      "source": [
        "##### **Observações:**"
      ]
    },
    {
      "cell_type": "markdown",
      "metadata": {
        "id": "520eanUlDPsY"
      },
      "source": [
        "*   Há uma quantidade desproporcionalmente maior de pessoas nascidas nos Estados Unidos, portanto a maioria das pessoas de alta renda também provém desse país."
      ]
    },
    {
      "cell_type": "markdown",
      "metadata": {
        "id": "elEGp-LaJlEy"
      },
      "source": [
        "#### **Idade** (*age*)"
      ]
    },
    {
      "cell_type": "markdown",
      "metadata": {
        "id": "Pwt08FXlJ1sr"
      },
      "source": [
        " Separamos as diversas idades em faixas etárias, para melhor caracterizar a distribbuição de idades e rendas do dataset. E em seguida plotamos o gráfico Faixa etária versus renda."
      ]
    },
    {
      "cell_type": "code",
      "execution_count": null,
      "metadata": {
        "colab": {
          "base_uri": "https://localhost:8080/",
          "height": 393
        },
        "id": "vo9Uwt6zJlEy",
        "outputId": "ec1b9fc5-62e3-46e0-e0ae-eb77b9133070"
      },
      "outputs": [],
      "source": [
        "data['age-range']= pd.cut(data['age'], 10)\n",
        "\n",
        "plt.figure(figsize=(16,4))\n",
        "sns.countplot(data=data, x='age-range', hue='income')"
      ]
    },
    {
      "cell_type": "markdown",
      "metadata": {
        "id": "C8lW0-V4KFe5"
      },
      "source": [
        "##### **Observações:**"
      ]
    },
    {
      "cell_type": "markdown",
      "metadata": {
        "id": "S3t2bqySJlE3"
      },
      "source": [
        "*   Pessoas de maior renda tem idades na faixa dos 30 à 50 anos.\n",
        "*   Pessoa jovens tem renda muito menor do que pessoas de meia-idade."
      ]
    },
    {
      "cell_type": "markdown",
      "metadata": {
        "id": "RN7KR_AUJlE3"
      },
      "source": [
        "#### **Relacionamento familiar** (*relationship*)"
      ]
    },
    {
      "cell_type": "markdown",
      "metadata": {
        "id": "Du_a8GlYKqwL"
      },
      "source": [
        "Primeiro fazemos o gráfico das variáveis Relacionamento familiar versus a Renda."
      ]
    },
    {
      "cell_type": "code",
      "execution_count": null,
      "metadata": {
        "colab": {
          "base_uri": "https://localhost:8080/",
          "height": 393
        },
        "id": "0ogTrMy-JlE3",
        "outputId": "d8b6b9a8-eef6-43ad-ae93-ab5b1cf1d76e"
      },
      "outputs": [],
      "source": [
        "plt.figure(figsize=(16,4))\n",
        "sns.countplot(data=data, x='relationship', hue='income')"
      ]
    },
    {
      "cell_type": "markdown",
      "metadata": {
        "id": "3v4a4B5sLi2O"
      },
      "source": [
        "##### **Observações:**"
      ]
    },
    {
      "cell_type": "markdown",
      "metadata": {
        "id": "kKH4pd9YJlE3"
      },
      "source": [
        "*   Maridos e esposas apresentam maior renda familiar, o que é condizente com o fato de que pessoas casadas ganham mais que os demais."
      ]
    },
    {
      "cell_type": "markdown",
      "metadata": {
        "id": "5uMHTZbYJlE4"
      },
      "source": [
        "#### **Sexo** (*sex*)"
      ]
    },
    {
      "cell_type": "markdown",
      "metadata": {
        "id": "6yJbpNbDLyQF"
      },
      "source": [
        "Primeiro fazemos o gráfico das variáveis Sexo versus a Renda."
      ]
    },
    {
      "cell_type": "code",
      "execution_count": null,
      "metadata": {
        "colab": {
          "base_uri": "https://localhost:8080/",
          "height": 467
        },
        "id": "Phpi3cWIJlE4",
        "outputId": "6f1f78c2-7847-4259-9b04-198f303f6c1b"
      },
      "outputs": [],
      "source": [
        "sns.countplot(data=data, x='sex', hue='income')"
      ]
    },
    {
      "cell_type": "markdown",
      "metadata": {
        "id": "d35813lDLklg"
      },
      "source": [
        "##### **Observações:**"
      ]
    },
    {
      "cell_type": "markdown",
      "metadata": {
        "id": "Qo0t2eHmJlE4"
      },
      "source": [
        "*   Mais pessoas do sexo masculino tem alta renda do que do sexo feminino."
      ]
    },
    {
      "cell_type": "markdown",
      "metadata": {
        "id": "8CtXuhRYJlE4"
      },
      "source": [
        "#### **Raça** (*race*)"
      ]
    },
    {
      "cell_type": "markdown",
      "metadata": {
        "id": "CRh7-00YMPGr"
      },
      "source": [
        "Primeiro fazemos o gráfico das variáveis Raça versus a Renda."
      ]
    },
    {
      "cell_type": "code",
      "execution_count": null,
      "metadata": {
        "colab": {
          "base_uri": "https://localhost:8080/",
          "height": 390
        },
        "id": "BgtbY6DNJlE4",
        "outputId": "b87a62b3-1cd2-4fa3-db07-5e7e78db7cb8"
      },
      "outputs": [],
      "source": [
        "plt.figure(figsize=(16,4))\n",
        "sns.countplot(data=data, x='race', hue='income')"
      ]
    },
    {
      "cell_type": "markdown",
      "metadata": {
        "id": "gzocZsnoN0dl"
      },
      "source": [
        "##### **Observações:**"
      ]
    },
    {
      "cell_type": "markdown",
      "metadata": {
        "id": "3CGdvJs9JlE5"
      },
      "source": [
        "*   Como há muito mais pessoas brancas do que pertencentes à outras etnias, elas também apresentam maior renda. Entre as outras etnias, os negros são o grupo mais significativo em relação à renda."
      ]
    },
    {
      "cell_type": "markdown",
      "metadata": {
        "id": "wJ1ntIzAJlE5"
      },
      "source": [
        "#### **Horas (trabalhadas) por semana** (*hours-per-week*)"
      ]
    },
    {
      "cell_type": "markdown",
      "metadata": {
        "id": "FEFyNXGWNy0r"
      },
      "source": [
        " Separamos as horas trabalhadas por semanas em intervalos para melhor caracterizar a distribbuição entre a quantidade de horas trabalhadas e a renda. E em seguida plotamos o gráfico das faixas de horas trabalhadas versus renda."
      ]
    },
    {
      "cell_type": "code",
      "execution_count": null,
      "metadata": {
        "colab": {
          "base_uri": "https://localhost:8080/",
          "height": 390
        },
        "id": "J8F49JbeJlE5",
        "outputId": "60d6f492-b584-4d11-d682-00c0dd2a027f"
      },
      "outputs": [],
      "source": [
        "data['h/w-range']= pd.cut(data['hours-per-week'], 5)\n",
        "\n",
        "plt.figure(figsize=(16,4))\n",
        "sns.countplot(data=data, x='h/w-range', hue='income')"
      ]
    },
    {
      "cell_type": "markdown",
      "metadata": {
        "id": "4AuwQAjROG8A"
      },
      "source": [
        "##### **Observações:**"
      ]
    },
    {
      "cell_type": "markdown",
      "metadata": {
        "id": "nIg3N9OKJlE5"
      },
      "source": [
        "*   Pessoas com maior renda trabalham entre 20 e 60 horas semanais."
      ]
    },
    {
      "cell_type": "markdown",
      "metadata": {
        "id": "jZm7b60_JlE5"
      },
      "source": [
        "# **6. Processamento dos dados**"
      ]
    },
    {
      "cell_type": "markdown",
      "metadata": {
        "id": "PoAWSr8SJlE6"
      },
      "source": [
        "Para o processamento dos dados realizou-se os seguintes procedimentos:\n",
        "*   Removeu-se outliers na variável ganho de capital para generalizar melhor os dados.\n",
        "*   Para lidar com os valores ausentes removeu-se registros com quaisquer atributos nulos. Visto que não fará uma diferença significativa no treinamento, pois os registros nulos representam apenas cerca de 5% de todos os dados de treinamento.\n",
        "*   Removeu-se duplicatas para evitar overfitting.\n",
        "*   Descartou-se a variável **fnlwgt** porque é um recurso inútil.\n",
        "*   Entre as variáveis Educação e Número de Educação, usamos apenas Número de Educação, pois contém toda a informação presente em Educação.\n",
        "*   Combinou-se ganhos e perdas de capital para torná-lo um único recurso.\n",
        "*   Todos os outros recursos permanecem inalterados.\n"
      ]
    },
    {
      "cell_type": "code",
      "execution_count": null,
      "metadata": {
        "colab": {
          "base_uri": "https://localhost:8080/"
        },
        "id": "Nexcy_IHQXhN",
        "outputId": "573a95e9-e0b2-4495-c1ea-330fff549781"
      },
      "outputs": [],
      "source": [
        "# Removendo ouliers da variável ganho de capital\n",
        "outliers= data[data['capital-gain'] > 40000].index\n",
        "data= data.drop(outliers)\n",
        "\n",
        "# Removendo linhas com valores faltantes ou duplicadas\n",
        "data= data.dropna(how='any', axis=0)\n",
        "data= data.drop_duplicates()\n",
        "\n",
        "# Removendo as colunas fnlwgt e education\n",
        "data= data.drop('fnlwgt', axis=1)\n",
        "data= data.drop(columns='education')\n",
        "\n",
        "# Combinando as colunas ganho e perda de capital em uma única coluna\n",
        "data['capital-gain'] = data.apply(lambda capital: (capital['capital-gain'] - capital['capital-loss']), axis=1)\n",
        "\n",
        "# Removendo demais colunas desnecessárias\n",
        "data= data.drop(columns='capital-loss')\n",
        "data= data.drop(columns='age-range')\n",
        "data= data.drop(columns='h/w-range')\n",
        "\n",
        "# verificando o novo dataset\n",
        "data.info()"
      ]
    },
    {
      "cell_type": "markdown",
      "metadata": {
        "id": "f4DM5yJKStJU"
      },
      "source": [
        "Verifica-se que não há colunas com valores nulos.\n",
        "Pode-se portanto verificar as estatísticas descritivas das colunas numéricas restantes."
      ]
    },
    {
      "cell_type": "code",
      "execution_count": null,
      "metadata": {
        "colab": {
          "base_uri": "https://localhost:8080/",
          "height": 300
        },
        "id": "KUwtvAQrSt1H",
        "outputId": "5e2f776d-ada8-487d-fec7-cecf12515702"
      },
      "outputs": [],
      "source": [
        "data.describe()"
      ]
    },
    {
      "cell_type": "markdown",
      "metadata": {
        "id": "8ABZ2MIkTBff"
      },
      "source": [
        "Pode-se então verificar como ficaram as correlações após as alterações feitas nos atributos."
      ]
    },
    {
      "cell_type": "code",
      "execution_count": null,
      "metadata": {
        "colab": {
          "base_uri": "https://localhost:8080/",
          "height": 834
        },
        "id": "7L0xnH_gTAdi",
        "outputId": "0dd980aa-3ebf-4461-adf0-df28d882c37b"
      },
      "outputs": [],
      "source": [
        "correlacao_nova =data[['age', 'education-num', 'capital-gain', 'hours-per-week']].corr()\n",
        "\n",
        "heatMap(correlacao_nova)"
      ]
    },
    {
      "cell_type": "markdown",
      "metadata": {
        "id": "rqsReYgmTdQJ"
      },
      "source": [
        "##### **Observações:**"
      ]
    },
    {
      "cell_type": "markdown",
      "metadata": {
        "id": "LE7UqtlWTh7t"
      },
      "source": [
        "*   Houve uma melhora significativa nas correlações dos dados numéricos.\n",
        "*   Pode-se, então, seguir para a construção do modelo.\n",
        "\n"
      ]
    },
    {
      "cell_type": "markdown",
      "metadata": {
        "id": "yQXQherWTu4L"
      },
      "source": [
        "# **7. Construção do modelo**"
      ]
    },
    {
      "cell_type": "markdown",
      "metadata": {
        "id": "FqH07ryTUToy"
      },
      "source": [
        "Importando os elementos necessários do Sci-Kit Learn."
      ]
    },
    {
      "cell_type": "code",
      "execution_count": null,
      "metadata": {
        "id": "PALf_8mMJlE7"
      },
      "outputs": [],
      "source": [
        "from sklearn.model_selection import KFold, GridSearchCV, cross_val_score, cross_val_predict\n",
        "cv = KFold(6)\n",
        "from sklearn.metrics import (accuracy_score, precision_score, recall_score, f1_score, roc_auc_score, classification_report, confusion_matrix)\n",
        "from sklearn.preprocessing import StandardScaler\n",
        "from sklearn.preprocessing import RobustScaler\n",
        "\n",
        "model = []\n",
        "accuracy = []\n",
        "f1 = []\n",
        "auc = []"
      ]
    },
    {
      "cell_type": "code",
      "execution_count": null,
      "metadata": {
        "colab": {
          "base_uri": "https://localhost:8080/",
          "height": 478
        },
        "id": "uJm-Scb6JlE7",
        "outputId": "b91816f5-c5d1-4b56-844a-b863639dbe93"
      },
      "outputs": [],
      "source": [
        "data = pd.get_dummies(data, drop_first=True)\n",
        "data"
      ]
    },
    {
      "cell_type": "markdown",
      "metadata": {
        "id": "tiVnS6CMUkHP"
      },
      "source": [
        "Gerando os datasets de treino e normalizando os dados."
      ]
    },
    {
      "cell_type": "code",
      "execution_count": null,
      "metadata": {
        "id": "EcBpJ5DHJlE8"
      },
      "outputs": [],
      "source": [
        "# Dividindo o dataset\n",
        "X = data[data.columns[:-1]]\n",
        "y = data[data.columns[-1]]\n"
      ]
    },
    {
      "cell_type": "code",
      "execution_count": null,
      "metadata": {},
      "outputs": [],
      "source": [
        "from imblearn.over_sampling import SMOTE\n",
        "# Cria o balanceador SMOTE\n",
        "smote_bal = SMOTE(random_state = 42)\n",
        "X_res,y_res = smote_bal.fit_resample(X,y)"
      ]
    },
    {
      "cell_type": "code",
      "execution_count": null,
      "metadata": {},
      "outputs": [],
      "source": []
    },
    {
      "cell_type": "code",
      "execution_count": null,
      "metadata": {
        "id": "radR0p5qhNEP"
      },
      "outputs": [],
      "source": [
        "# Normalizando os dados\n",
        "\n",
        "scaler = StandardScaler().fit(X)\n",
        "x_scaled = scaler.transform(X)"
      ]
    },
    {
      "cell_type": "markdown",
      "metadata": {
        "id": "0HVkhdWRWnsO"
      },
      "source": [
        "Importando modelo de Classificador por Árvore de Decisões"
      ]
    },
    {
      "cell_type": "code",
      "execution_count": null,
      "metadata": {
        "id": "0eb8QFI0nJkd"
      },
      "outputs": [],
      "source": [
        "from sklearn.tree import DecisionTreeClassifier, plot_tree\n",
        "\n",
        "tree_clf_income = DecisionTreeClassifier(random_state=42,criterion=\"gini\",splitter='best')\n",
        "tree_clf_income.fit(X_res,y_res)\n",
        "\n",
        "#aram_grid = {'max_depth': [5, 10, 50, 100, None],\n",
        "#              'criterion': ['gini','entropy']}\n",
        "#grid2 = GridSearchCV(dtc, param_grid, cv=cv).fit(x_scaled, y)\n",
        "#print(\"DTC: \", grid2.best_score_, grid2.best_params_)\n"
      ]
    },
    {
      "cell_type": "code",
      "execution_count": null,
      "metadata": {},
      "outputs": [],
      "source": [
        "fig,ax = plt.subplots(figsize=(30,30))\n",
        "plot_tree(tree_clf_income,ax=ax,feature_names=X.columns,\n",
        "        rounded=True,filled=True,precision=2,class_names=['Pobre','Rico'])\n",
        "plt.show()"
      ]
    },
    {
      "cell_type": "code",
      "execution_count": null,
      "metadata": {},
      "outputs": [],
      "source": [
        "tree_clf_income.get_depth()"
      ]
    },
    {
      "cell_type": "code",
      "execution_count": null,
      "metadata": {},
      "outputs": [],
      "source": [
        "from sklearn.metrics import classification_report\n",
        "print(classification_report(y,tree_clf_income.predict(X)))"
      ]
    },
    {
      "cell_type": "markdown",
      "metadata": {
        "id": "FbC3TAVFJlE_"
      },
      "source": [
        "# **8. Aplicação do modelo aos dataset de testes**"
      ]
    },
    {
      "cell_type": "markdown",
      "metadata": {
        "id": "XWUMzPYvYLX0"
      },
      "source": [
        "Carregando o dataset de testes."
      ]
    },
    {
      "cell_type": "code",
      "execution_count": null,
      "metadata": {
        "id": "rCc7KMOeJlE_"
      },
      "outputs": [],
      "source": [
        "test= pd.read_csv('data/adult.test', sep=', ', names=colunas, na_values='?', engine='python', skiprows=1)\n",
        "test.info()"
      ]
    },
    {
      "cell_type": "markdown",
      "metadata": {
        "id": "LTXzYhteYQzt"
      },
      "source": [
        "Processando o dataset de testes"
      ]
    },
    {
      "cell_type": "code",
      "execution_count": null,
      "metadata": {
        "id": "GLTHeDF8JlFA"
      },
      "outputs": [],
      "source": [
        "test= test.dropna(how='any', axis=0)\n",
        "test= test.drop_duplicates()\n",
        "test= test.drop('fnlwgt', axis=1)\n",
        "test= test.drop(columns='education')\n",
        "\n",
        "test['capital-gain']= test.apply(lambda x: (x['capital-gain'] - x['capital-loss']), axis=1)\n",
        "test= test.drop(columns='capital-loss')\n",
        "\n",
        "test.info()"
      ]
    },
    {
      "cell_type": "markdown",
      "metadata": {
        "id": "ujKEQE8rYsZO"
      },
      "source": [
        "Realizando engenharia de atributos no dataset de testes."
      ]
    },
    {
      "cell_type": "code",
      "execution_count": null,
      "metadata": {
        "id": "6S8j1ycYJlFA"
      },
      "outputs": [],
      "source": [
        "test['workclass'].replace(['State-gov', 'Federal-gov', 'Local-gov'], 'Government', inplace=True)\n",
        "test['workclass'].replace(['Self-emp-not-inc', 'Self-emp-inc'], 'Self', inplace=True)\n",
        "test['workclass'].replace(['Without-pay', 'Never-worked'], 'Others', inplace=True)\n",
        "\n",
        "test['marital-status'].replace(['Married-AF-spouse', 'Married-civ-spouse', 'Married-spouse-absent'], 'Married', inplace=True)\n",
        "test['marital-status'].replace('Divorced', 'Separated',inplace=True)\n",
        "\n",
        "test['occupation'].replace(['Tech-support', 'Craft-repair', 'Handlers-cleaners', 'Transport-moving', 'Machine-op-inspct'], 'Blue-collar', inplace=True)\n",
        "test['occupation'].replace(['Exec-managerial', 'Adm-clerical'], 'White-collar', inplace=True)\n",
        "test['occupation'].replace('Prof-specialty', 'Gold-collar', inplace=True)\n",
        "test['occupation'].replace(['Other-service', 'Sales', 'Priv-house-serv', 'Protective-serv'], 'Pink-collar', inplace=True)\n",
        "test['occupation'].replace('Farming-fishing', 'Green-collar', inplace=True)\n",
        "test['occupation'].replace('Armed-Forces', 'Brown-collar', inplace=True)\n",
        "\n",
        "test['native-country']= test['native-country'].map(lambda country: 'US' if country == 'United-States' else 'Other')"
      ]
    },
    {
      "cell_type": "code",
      "execution_count": null,
      "metadata": {
        "id": "KXUlXoMhJlFA"
      },
      "outputs": [],
      "source": [
        "test = pd.get_dummies(test, drop_first=True)\n",
        "test"
      ]
    },
    {
      "cell_type": "markdown",
      "metadata": {
        "id": "5jG7qXuXZCuA"
      },
      "source": [
        "Preparando o dataset de testes para rodar o modelo."
      ]
    },
    {
      "cell_type": "code",
      "execution_count": null,
      "metadata": {
        "id": "jMYKvoFfJlFA"
      },
      "outputs": [],
      "source": [
        "Xtest = test[test.columns[:-1]]\n",
        "ytest = test[test.columns[-1]]\n",
        "\n",
        "scaler = StandardScaler().fit(Xtest)\n",
        "xtest_scaled = scaler.transform(Xtest)"
      ]
    },
    {
      "cell_type": "code",
      "execution_count": null,
      "metadata": {},
      "outputs": [],
      "source": [
        "ytest.value_counts()"
      ]
    },
    {
      "cell_type": "code",
      "execution_count": null,
      "metadata": {},
      "outputs": [],
      "source": [
        "sns.histplot(ytest)"
      ]
    },
    {
      "cell_type": "code",
      "execution_count": null,
      "metadata": {
        "id": "2hcZHJ5qJlFA"
      },
      "outputs": [],
      "source": [
        "xtest_scaled.shape"
      ]
    },
    {
      "cell_type": "markdown",
      "metadata": {
        "id": "bAbDxH03ZNYq"
      },
      "source": [
        "Rodando o modelo para gerar previsões"
      ]
    },
    {
      "cell_type": "code",
      "execution_count": null,
      "metadata": {
        "id": "AtGluAMDJlFB"
      },
      "outputs": [],
      "source": [
        "print('Conjunto de Teste:')\n",
        "print(classification_report(ytest,tree_clf_income.predict(Xtest)))"
      ]
    },
    {
      "cell_type": "code",
      "execution_count": null,
      "metadata": {},
      "outputs": [],
      "source": [
        "tree_clf_income.__dict__"
      ]
    },
    {
      "cell_type": "code",
      "execution_count": null,
      "metadata": {},
      "outputs": [],
      "source": [
        "print(tree_clf_income.feature_importances_.)"
      ]
    },
    {
      "cell_type": "code",
      "execution_count": null,
      "metadata": {},
      "outputs": [],
      "source": [
        "np.where(tree_clf_income.feature_importances_ > 0.2)[0]"
      ]
    },
    {
      "cell_type": "code",
      "execution_count": null,
      "metadata": {},
      "outputs": [],
      "source": [
        "tree_clf_income.feature_names_in_[7]"
      ]
    }
  ],
  "metadata": {
    "colab": {
      "provenance": []
    },
    "kernelspec": {
      "display_name": "Python 3 (ipykernel)",
      "language": "python",
      "name": "python3"
    },
    "language_info": {
      "codemirror_mode": {
        "name": "ipython",
        "version": 3
      },
      "file_extension": ".py",
      "mimetype": "text/x-python",
      "name": "python",
      "nbconvert_exporter": "python",
      "pygments_lexer": "ipython3",
      "version": "3.11.0"
    }
  },
  "nbformat": 4,
  "nbformat_minor": 0
}
