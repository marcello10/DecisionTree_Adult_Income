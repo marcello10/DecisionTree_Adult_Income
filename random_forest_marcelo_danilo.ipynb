{
  "cells": [
    {
      "cell_type": "markdown",
      "metadata": {
        "id": "Fqy4JOxKt3pW"
      },
      "source": [
        "# **1. Preparando o ambiente de trabalho**"
      ]
    },
    {
      "cell_type": "code",
      "execution_count": 41,
      "metadata": {
        "id": "ZoWqsRwNnQLd"
      },
      "outputs": [],
      "source": [
        "# Imports\n",
        "import pandas as pd\n",
        "import numpy as np\n",
        "import matplotlib.pyplot as plt\n",
        "%matplotlib inline\n",
        "import matplotlib.pyplot as plt\n",
        "import seaborn as sns\n",
        "from collections import Counter"
      ]
    },
    {
      "cell_type": "markdown",
      "metadata": {
        "id": "b_qaoi60uzb2"
      },
      "source": [
        "# **2. Objetivos**"
      ]
    },
    {
      "cell_type": "markdown",
      "metadata": {
        "id": "VgkaiXhfu7Vz"
      },
      "source": [
        "O objetivo deste trabalho é realizar uma análise exploratória de dados do conjunto de dados \"Adult\" do UCI Machine Learning Repository. E criar um modelo de classificação que classifique os respondentes da pesquisa de acordo com a renda a partir das variáveis de característica, obtendo valores corretos para a variável alvo. Utilizando o método de aprendizado de máquina denominado Árvore de decisão. Para saber quais características são importantes para determinar se a renda anaual é superior ou inferior a $50.00 Dólares por ano.\n"
      ]
    },
    {
      "cell_type": "markdown",
      "metadata": {
        "id": "08k1gx0CvTts"
      },
      "source": [
        "# **3. O Dataset**"
      ]
    },
    {
      "cell_type": "markdown",
      "metadata": {
        "id": "ae1L-9EVvc4i"
      },
      "source": [
        "O conjunto de dados \"Adult\" contém informações sobre renda, educação, idade, sexo e raça, etc. O conjunto de dados contém *48.842* entradas com um total de 15 colunas representando diferentes atributos das pessoas, conforme a tabela abaixo. O conjunto de dados foi divido previamente em dois datasets, o dataset de de treino **adult.data** que contém *32.560* entradas, e o dataset de testes **adult.test** que contém *16.282* entradas. Os dados foram coletados em 1994 e a variável alvo,  **Renda Anual** (*income*) é dividida em duas classes: *\"Alta Renda\"* ($\\gt50K$) e *\"Baixa Renda\"* ($\\leq50K$).\n",
        "\n",
        "\n",
        "\n"
      ]
    },
    {
      "cell_type": "markdown",
      "metadata": {
        "id": "xoGeyL61uMLO"
      },
      "source": [
        "| Coluna          | Variável                  | Definição                                                                                     | Tipo de Variável                             | Tipo de Dado |\n",
        "| :------------  | :------------            | :------                                                                                       | :------                                      |  ----:       |\n",
        "| age             |  Idade                    |   Idade do respondente                                                                        |   Discreta (de 17 a 90)                      |  int64       |\n",
        "| workclass       |  Classe de trabalho       |   Classificação do trabalho do respondente                                                    |   Categórica (9 categorias)                     |  object      |\n",
        "| fnlwgt          |  Peso final               |   O número de pessoas que acreditam no senso                          |   Discreta                                   |  int64       |\n",
        "| education       |  Escolaridade             |   O nível de escolaridade mais elevado obtido pelo respondente                                |   Ordinal (16 categorias)                    |  object      |\n",
        "| education-num   |  Número de escolaridade   |   O número de escolaridade associada ao 'education' do respondente                                             |   Discreta (de 1 a 16)                       |  int64       |\n",
        "| marital-status  |  Estado Civil             |   O estado civil do respondente                                                               |   Categórica (7 categorias)                     |  object      |\n",
        "| occupation      |  Ocupação                 |   Qual o tipo de trabalho do respondente                                                      |   Categórica (15 categorias)                    |  object      |\n",
        "| relationship    |  Relacionamento familiar  |   Tipo de relacionamento familiar do respondente                                              |   Categórica (6 categorias)                     |  object      |\n",
        "| race            |  Raça                     |   A raça do respondente                                                                       |   Categórica (5 categorias)                     |  object      |\n",
        "| sex             |  Sexo                     |   O sexo do do respondente                                                                    |   Categórica (2 categorias)                     |  object      |\n",
        "| capital-gain    |  Ganho de capital         |   Valor de ganhos de capital que o respondente obteve sobre sua poupança, investimentos e pensão   |   Contínua                                   |  int64       |\n",
        "| capital-loss    |  Perda de capital         |   Valor de perda de capital que o respondente obteve sobre sua poupança, investimentos e pensão    |   Contínua                                   |  int64       |\n",
        "| hours-per-week  |  Horas por semana         |   Quantidade de horas trabalhadas por semana pelo respondente                                 |   Discreta (de 1 a 99)                       |  int64       |\n",
        "| native-country  |  País de origem           |   Nacionalidade do respondente                                                                |   Categórica (42 países)                        |  object      |\n",
        "| income          |  Renda                    |   Classificação se o respondente é de baixa ou de alta renda                                  |   Booleano (≤ USD 50 mil, > USD 50 mil)      |  object      |"
      ]
    },
    {
      "cell_type": "markdown",
      "metadata": {
        "id": "0p7M_x3vTM5F"
      },
      "source": [
        "Os dados foram obtidos do repositório *UCI Machine Learning Repository* por meio do download do arquivo *.zip* que contém os arquivos *adult.data*, *adult.names*, *adult.test*, *Index*, *old.adult.names*. Então usamos o arquivo *adult.data*, que contém o dataset de treino, e transformando-o em um Pandas Dataframe."
      ]
    },
    {
      "cell_type": "code",
      "execution_count": 42,
      "metadata": {
        "id": "9oQMYIm0o9cP"
      },
      "outputs": [],
      "source": [
        "# Carregando os dados dos arquivos baixados do site UCI Machine Learning.\n",
        "\n",
        "colunas = ['age', 'workclass', 'fnlwgt', 'education', 'education-num', 'marital-status', 'occupation', 'relationship', 'race', 'sex', 'capital-gain', 'capital-loss', 'hours-per-week', 'native-country', 'income']\n",
        "\n",
        "data = pd.read_csv('data/adult.data', sep = ', ', names = colunas, engine = 'python', skiprows = 1)\n",
        "data_test = pd.read_csv('data/adult.test', sep = ', ', names = colunas, engine = 'python', skiprows = 1)\n",
        "dados_extendidos = pd.concat([data, data_test],ignore_index=True)"
      ]
    },
    {
      "cell_type": "code",
      "execution_count": 43,
      "metadata": {},
      "outputs": [
        {
          "name": "stdout",
          "output_type": "stream",
          "text": [
            "<class 'pandas.core.frame.DataFrame'>\n",
            "RangeIndex: 48841 entries, 0 to 48840\n",
            "Data columns (total 15 columns):\n",
            " #   Column          Non-Null Count  Dtype \n",
            "---  ------          --------------  ----- \n",
            " 0   age             48841 non-null  int64 \n",
            " 1   workclass       48841 non-null  object\n",
            " 2   fnlwgt          48841 non-null  int64 \n",
            " 3   education       48841 non-null  object\n",
            " 4   education-num   48841 non-null  int64 \n",
            " 5   marital-status  48841 non-null  object\n",
            " 6   occupation      48841 non-null  object\n",
            " 7   relationship    48841 non-null  object\n",
            " 8   race            48841 non-null  object\n",
            " 9   sex             48841 non-null  object\n",
            " 10  capital-gain    48841 non-null  int64 \n",
            " 11  capital-loss    48841 non-null  int64 \n",
            " 12  hours-per-week  48841 non-null  int64 \n",
            " 13  native-country  48841 non-null  object\n",
            " 14  income          48841 non-null  object\n",
            "dtypes: int64(6), object(9)\n",
            "memory usage: 5.6+ MB\n"
          ]
        }
      ],
      "source": [
        "dados_extendidos.info()"
      ]
    },
    {
      "cell_type": "code",
      "execution_count": 44,
      "metadata": {},
      "outputs": [],
      "source": [
        "dados_extendidos.drop('fnlwgt',axis=1,inplace=True)"
      ]
    },
    {
      "cell_type": "code",
      "execution_count": 45,
      "metadata": {},
      "outputs": [
        {
          "name": "stdout",
          "output_type": "stream",
          "text": [
            "<class 'pandas.core.frame.DataFrame'>\n",
            "RangeIndex: 48841 entries, 0 to 48840\n",
            "Data columns (total 14 columns):\n",
            " #   Column          Non-Null Count  Dtype \n",
            "---  ------          --------------  ----- \n",
            " 0   age             48841 non-null  int64 \n",
            " 1   workclass       48841 non-null  object\n",
            " 2   education       48841 non-null  object\n",
            " 3   education-num   48841 non-null  int64 \n",
            " 4   marital-status  48841 non-null  object\n",
            " 5   occupation      48841 non-null  object\n",
            " 6   relationship    48841 non-null  object\n",
            " 7   race            48841 non-null  object\n",
            " 8   sex             48841 non-null  object\n",
            " 9   capital-gain    48841 non-null  int64 \n",
            " 10  capital-loss    48841 non-null  int64 \n",
            " 11  hours-per-week  48841 non-null  int64 \n",
            " 12  native-country  48841 non-null  object\n",
            " 13  income          48841 non-null  object\n",
            "dtypes: int64(5), object(9)\n",
            "memory usage: 5.2+ MB\n"
          ]
        }
      ],
      "source": [
        "dados_extendidos.info()"
      ]
    },
    {
      "cell_type": "code",
      "execution_count": 46,
      "metadata": {
        "colab": {
          "base_uri": "https://localhost:8080/",
          "height": 310
        },
        "id": "8m_ZBzGTqh_w",
        "outputId": "099d0282-07cb-4b15-d686-fb4d178410ac"
      },
      "outputs": [
        {
          "data": {
            "text/html": [
              "<div>\n",
              "<style scoped>\n",
              "    .dataframe tbody tr th:only-of-type {\n",
              "        vertical-align: middle;\n",
              "    }\n",
              "\n",
              "    .dataframe tbody tr th {\n",
              "        vertical-align: top;\n",
              "    }\n",
              "\n",
              "    .dataframe thead th {\n",
              "        text-align: right;\n",
              "    }\n",
              "</style>\n",
              "<table border=\"1\" class=\"dataframe\">\n",
              "  <thead>\n",
              "    <tr style=\"text-align: right;\">\n",
              "      <th></th>\n",
              "      <th>age</th>\n",
              "      <th>workclass</th>\n",
              "      <th>fnlwgt</th>\n",
              "      <th>education</th>\n",
              "      <th>education-num</th>\n",
              "      <th>marital-status</th>\n",
              "      <th>occupation</th>\n",
              "      <th>relationship</th>\n",
              "      <th>race</th>\n",
              "      <th>sex</th>\n",
              "      <th>capital-gain</th>\n",
              "      <th>capital-loss</th>\n",
              "      <th>hours-per-week</th>\n",
              "      <th>native-country</th>\n",
              "      <th>income</th>\n",
              "    </tr>\n",
              "  </thead>\n",
              "  <tbody>\n",
              "    <tr>\n",
              "      <th>0</th>\n",
              "      <td>50</td>\n",
              "      <td>Self-emp-not-inc</td>\n",
              "      <td>83311</td>\n",
              "      <td>Bachelors</td>\n",
              "      <td>13</td>\n",
              "      <td>Married-civ-spouse</td>\n",
              "      <td>Exec-managerial</td>\n",
              "      <td>Husband</td>\n",
              "      <td>White</td>\n",
              "      <td>Male</td>\n",
              "      <td>0</td>\n",
              "      <td>0</td>\n",
              "      <td>13</td>\n",
              "      <td>United-States</td>\n",
              "      <td>&lt;=50K</td>\n",
              "    </tr>\n",
              "    <tr>\n",
              "      <th>1</th>\n",
              "      <td>38</td>\n",
              "      <td>Private</td>\n",
              "      <td>215646</td>\n",
              "      <td>HS-grad</td>\n",
              "      <td>9</td>\n",
              "      <td>Divorced</td>\n",
              "      <td>Handlers-cleaners</td>\n",
              "      <td>Not-in-family</td>\n",
              "      <td>White</td>\n",
              "      <td>Male</td>\n",
              "      <td>0</td>\n",
              "      <td>0</td>\n",
              "      <td>40</td>\n",
              "      <td>United-States</td>\n",
              "      <td>&lt;=50K</td>\n",
              "    </tr>\n",
              "    <tr>\n",
              "      <th>2</th>\n",
              "      <td>53</td>\n",
              "      <td>Private</td>\n",
              "      <td>234721</td>\n",
              "      <td>11th</td>\n",
              "      <td>7</td>\n",
              "      <td>Married-civ-spouse</td>\n",
              "      <td>Handlers-cleaners</td>\n",
              "      <td>Husband</td>\n",
              "      <td>Black</td>\n",
              "      <td>Male</td>\n",
              "      <td>0</td>\n",
              "      <td>0</td>\n",
              "      <td>40</td>\n",
              "      <td>United-States</td>\n",
              "      <td>&lt;=50K</td>\n",
              "    </tr>\n",
              "    <tr>\n",
              "      <th>3</th>\n",
              "      <td>28</td>\n",
              "      <td>Private</td>\n",
              "      <td>338409</td>\n",
              "      <td>Bachelors</td>\n",
              "      <td>13</td>\n",
              "      <td>Married-civ-spouse</td>\n",
              "      <td>Prof-specialty</td>\n",
              "      <td>Wife</td>\n",
              "      <td>Black</td>\n",
              "      <td>Female</td>\n",
              "      <td>0</td>\n",
              "      <td>0</td>\n",
              "      <td>40</td>\n",
              "      <td>Cuba</td>\n",
              "      <td>&lt;=50K</td>\n",
              "    </tr>\n",
              "    <tr>\n",
              "      <th>4</th>\n",
              "      <td>37</td>\n",
              "      <td>Private</td>\n",
              "      <td>284582</td>\n",
              "      <td>Masters</td>\n",
              "      <td>14</td>\n",
              "      <td>Married-civ-spouse</td>\n",
              "      <td>Exec-managerial</td>\n",
              "      <td>Wife</td>\n",
              "      <td>White</td>\n",
              "      <td>Female</td>\n",
              "      <td>0</td>\n",
              "      <td>0</td>\n",
              "      <td>40</td>\n",
              "      <td>United-States</td>\n",
              "      <td>&lt;=50K</td>\n",
              "    </tr>\n",
              "  </tbody>\n",
              "</table>\n",
              "</div>"
            ],
            "text/plain": [
              "   age         workclass  fnlwgt  education  education-num  \\\n",
              "0   50  Self-emp-not-inc   83311  Bachelors             13   \n",
              "1   38           Private  215646    HS-grad              9   \n",
              "2   53           Private  234721       11th              7   \n",
              "3   28           Private  338409  Bachelors             13   \n",
              "4   37           Private  284582    Masters             14   \n",
              "\n",
              "       marital-status         occupation   relationship   race     sex  \\\n",
              "0  Married-civ-spouse    Exec-managerial        Husband  White    Male   \n",
              "1            Divorced  Handlers-cleaners  Not-in-family  White    Male   \n",
              "2  Married-civ-spouse  Handlers-cleaners        Husband  Black    Male   \n",
              "3  Married-civ-spouse     Prof-specialty           Wife  Black  Female   \n",
              "4  Married-civ-spouse    Exec-managerial           Wife  White  Female   \n",
              "\n",
              "   capital-gain  capital-loss  hours-per-week native-country income  \n",
              "0             0             0              13  United-States  <=50K  \n",
              "1             0             0              40  United-States  <=50K  \n",
              "2             0             0              40  United-States  <=50K  \n",
              "3             0             0              40           Cuba  <=50K  \n",
              "4             0             0              40  United-States  <=50K  "
            ]
          },
          "execution_count": 46,
          "metadata": {},
          "output_type": "execute_result"
        }
      ],
      "source": [
        "# Visualizando o dataset\n",
        "data.head()"
      ]
    },
    {
      "cell_type": "code",
      "execution_count": 47,
      "metadata": {
        "colab": {
          "base_uri": "https://localhost:8080/"
        },
        "id": "2yg3eKVxShCe",
        "outputId": "281bc26f-00ac-47e3-c274-e0afb32b7b02"
      },
      "outputs": [
        {
          "data": {
            "text/plain": [
              "(48841, 14)"
            ]
          },
          "execution_count": 47,
          "metadata": {},
          "output_type": "execute_result"
        }
      ],
      "source": [
        "# Observando o formato do Dataframe\n",
        "dados_extendidos.shape"
      ]
    },
    {
      "cell_type": "markdown",
      "metadata": {
        "id": "YKosDTtlchaY"
      },
      "source": [
        "Verificando a distribuição da variável alvo, Renda, no dataset."
      ]
    },
    {
      "cell_type": "code",
      "execution_count": 48,
      "metadata": {
        "colab": {
          "base_uri": "https://localhost:8080/"
        },
        "id": "Ve9VLJIXcpku",
        "outputId": "0e6b0c80-a5f1-42dd-d143-3a37962133bd"
      },
      "outputs": [],
      "source": [
        "dados_extendidos['income'].replace(['<=50K.', '>50K.'], ['<=50K', '>50K'], inplace=True)"
      ]
    },
    {
      "cell_type": "code",
      "execution_count": 49,
      "metadata": {},
      "outputs": [
        {
          "data": {
            "text/plain": [
              "income\n",
              "<=50K    37154\n",
              ">50K     11687\n",
              "Name: count, dtype: int64"
            ]
          },
          "execution_count": 49,
          "metadata": {},
          "output_type": "execute_result"
        }
      ],
      "source": [
        "dados_extendidos['income'].value_counts()"
      ]
    },
    {
      "cell_type": "code",
      "execution_count": 50,
      "metadata": {
        "id": "iaOAX-RNdFqz"
      },
      "outputs": [],
      "source": [
        "# Criando uma função para avaliar a simetria entre os valores de cada categoria de renda no dataset.\n",
        "\n",
        "def calcula_porcent_renda(data):\n",
        "  rotulo = data.values[:, -1]\n",
        "  contador = Counter(rotulo)\n",
        "  for key, value in contador.items():\n",
        "      porcentagem = value / len(rotulo) * 100\n",
        "      print(f\"A Classe: {key}, tem o total de {value} indivíduos, o que representa {porcentagem:.2f}% dos dados coletados.\")"
      ]
    },
    {
      "cell_type": "code",
      "execution_count": 51,
      "metadata": {
        "colab": {
          "base_uri": "https://localhost:8080/"
        },
        "id": "DFgJZ3Ssgwuo",
        "outputId": "3554cca7-9b1f-4f88-aa2c-8517055de348"
      },
      "outputs": [
        {
          "name": "stdout",
          "output_type": "stream",
          "text": [
            "A Classe: <=50K, tem o total de 37154 indivíduos, o que representa 76.07% dos dados coletados.\n",
            "A Classe: >50K, tem o total de 11687 indivíduos, o que representa 23.93% dos dados coletados.\n"
          ]
        }
      ],
      "source": [
        "# Calculando a porcentagem de cada categoria de renda\n",
        "\n",
        "calcula_porcent_renda(dados_extendidos)"
      ]
    },
    {
      "cell_type": "markdown",
      "metadata": {
        "id": "4A-wxpd4g3fs"
      },
      "source": [
        "Nota-se que há um grande desbalanço de renda entre os participantes da pesquisa, com aqueles considerados de baixa renda ($\\leq50K$) apresentando mais de três vezes o número de participantes considerados de alta renda ($\\gt50K$).\n",
        "\n",
        "\n"
      ]
    },
    {
      "cell_type": "markdown",
      "metadata": {
        "id": "SOeWIYN8PDy5"
      },
      "source": [
        "Observamos, então, as variáveis do dataset junto com seus tipos de dados e a presença de valores faltantes."
      ]
    },
    {
      "cell_type": "code",
      "execution_count": 52,
      "metadata": {
        "colab": {
          "base_uri": "https://localhost:8080/"
        },
        "id": "L5cEpL9eShCe",
        "outputId": "76259dc5-bc47-40b8-95d6-4723c0f7494b",
        "scrolled": false
      },
      "outputs": [
        {
          "name": "stdout",
          "output_type": "stream",
          "text": [
            "<class 'pandas.core.frame.DataFrame'>\n",
            "RangeIndex: 32560 entries, 0 to 32559\n",
            "Data columns (total 15 columns):\n",
            " #   Column          Non-Null Count  Dtype \n",
            "---  ------          --------------  ----- \n",
            " 0   age             32560 non-null  int64 \n",
            " 1   workclass       32560 non-null  object\n",
            " 2   fnlwgt          32560 non-null  int64 \n",
            " 3   education       32560 non-null  object\n",
            " 4   education-num   32560 non-null  int64 \n",
            " 5   marital-status  32560 non-null  object\n",
            " 6   occupation      32560 non-null  object\n",
            " 7   relationship    32560 non-null  object\n",
            " 8   race            32560 non-null  object\n",
            " 9   sex             32560 non-null  object\n",
            " 10  capital-gain    32560 non-null  int64 \n",
            " 11  capital-loss    32560 non-null  int64 \n",
            " 12  hours-per-week  32560 non-null  int64 \n",
            " 13  native-country  32560 non-null  object\n",
            " 14  income          32560 non-null  object\n",
            "dtypes: int64(6), object(9)\n",
            "memory usage: 3.7+ MB\n"
          ]
        }
      ],
      "source": [
        "# Informações sobre as colunas e os dados\n",
        "data.info()"
      ]
    },
    {
      "cell_type": "code",
      "execution_count": 53,
      "metadata": {},
      "outputs": [
        {
          "name": "stdout",
          "output_type": "stream",
          "text": [
            "dados faltantes do workclass:True\n",
            "\n",
            "dados faltantes do occupation:True\n",
            "\n",
            "dados faltantes do native-country:True\n",
            "\n"
          ]
        }
      ],
      "source": [
        "print(f\"dados faltantes do workclass:{ '?' in dados_extendidos['workclass'].unique()}\\n\")\n",
        "print(f\"dados faltantes do occupation:{'?' in dados_extendidos['occupation'].unique()}\\n\")\n",
        "print(f\"dados faltantes do native-country:{'?' in dados_extendidos['native-country'].unique()}\\n\")"
      ]
    },
    {
      "cell_type": "markdown",
      "metadata": {
        "id": "8ncdEtUTPIsV"
      },
      "source": [
        "Embora não tenha-se observado que existem valores faltantes, algumas categorias apresentam dados não respondidos. Por hora, faremos a substituição dos valores faltantes do caractere \"**?**\" para o objecto **nan**. E em seguida contaremos quantos valores desconhecidos há em cada coluna."
      ]
    },
    {
      "cell_type": "code",
      "execution_count": 54,
      "metadata": {
        "id": "2Yreh8LhO8vu"
      },
      "outputs": [],
      "source": [
        "# Substituindo os valores faltantes do caractere '?' para o objeto nan,\n",
        "\n",
        "from numpy import nan\n",
        "dados_extendidos = dados_extendidos.replace('?',nan)"
      ]
    },
    {
      "cell_type": "code",
      "execution_count": 55,
      "metadata": {
        "id": "NM1l-Nxdn2Nf"
      },
      "outputs": [],
      "source": [
        "# Criando funlção para calcular os número e a percentagem de valores faltantes em cada coluna\n",
        "\n",
        "def valoresFaltantes(data):\n",
        "\t\tvalores_faltantes = data.isnull().sum()\n",
        "\t\tvalores_faltantes = pd.DataFrame(valores_faltantes, columns= ['Valores Faltantes'])\n",
        "\t\tj=1\n",
        "\t\tsum_total=len(dados_extendidos)\n",
        "\t\tvalores_faltantes['Porcentagem (%)'] = round(( (valores_faltantes['Valores Faltantes'] / sum_total) * 100), 1)\n",
        "\t\treturn valores_faltantes.sort_values('Porcentagem (%)',ascending=False)\n"
      ]
    },
    {
      "cell_type": "code",
      "execution_count": 56,
      "metadata": {
        "colab": {
          "base_uri": "https://localhost:8080/",
          "height": 519
        },
        "id": "MEGeeoa6FWis",
        "outputId": "29c7574d-907d-4eb2-9f3f-38b0c8a80215"
      },
      "outputs": [
        {
          "data": {
            "text/html": [
              "<div>\n",
              "<style scoped>\n",
              "    .dataframe tbody tr th:only-of-type {\n",
              "        vertical-align: middle;\n",
              "    }\n",
              "\n",
              "    .dataframe tbody tr th {\n",
              "        vertical-align: top;\n",
              "    }\n",
              "\n",
              "    .dataframe thead th {\n",
              "        text-align: right;\n",
              "    }\n",
              "</style>\n",
              "<table border=\"1\" class=\"dataframe\">\n",
              "  <thead>\n",
              "    <tr style=\"text-align: right;\">\n",
              "      <th></th>\n",
              "      <th>Valores Faltantes</th>\n",
              "      <th>Porcentagem (%)</th>\n",
              "    </tr>\n",
              "  </thead>\n",
              "  <tbody>\n",
              "    <tr>\n",
              "      <th>occupation</th>\n",
              "      <td>2809</td>\n",
              "      <td>5.80</td>\n",
              "    </tr>\n",
              "    <tr>\n",
              "      <th>workclass</th>\n",
              "      <td>2799</td>\n",
              "      <td>5.70</td>\n",
              "    </tr>\n",
              "    <tr>\n",
              "      <th>native-country</th>\n",
              "      <td>857</td>\n",
              "      <td>1.80</td>\n",
              "    </tr>\n",
              "    <tr>\n",
              "      <th>age</th>\n",
              "      <td>0</td>\n",
              "      <td>0.00</td>\n",
              "    </tr>\n",
              "    <tr>\n",
              "      <th>education</th>\n",
              "      <td>0</td>\n",
              "      <td>0.00</td>\n",
              "    </tr>\n",
              "    <tr>\n",
              "      <th>education-num</th>\n",
              "      <td>0</td>\n",
              "      <td>0.00</td>\n",
              "    </tr>\n",
              "    <tr>\n",
              "      <th>marital-status</th>\n",
              "      <td>0</td>\n",
              "      <td>0.00</td>\n",
              "    </tr>\n",
              "    <tr>\n",
              "      <th>relationship</th>\n",
              "      <td>0</td>\n",
              "      <td>0.00</td>\n",
              "    </tr>\n",
              "    <tr>\n",
              "      <th>race</th>\n",
              "      <td>0</td>\n",
              "      <td>0.00</td>\n",
              "    </tr>\n",
              "    <tr>\n",
              "      <th>sex</th>\n",
              "      <td>0</td>\n",
              "      <td>0.00</td>\n",
              "    </tr>\n",
              "    <tr>\n",
              "      <th>capital-gain</th>\n",
              "      <td>0</td>\n",
              "      <td>0.00</td>\n",
              "    </tr>\n",
              "    <tr>\n",
              "      <th>capital-loss</th>\n",
              "      <td>0</td>\n",
              "      <td>0.00</td>\n",
              "    </tr>\n",
              "    <tr>\n",
              "      <th>hours-per-week</th>\n",
              "      <td>0</td>\n",
              "      <td>0.00</td>\n",
              "    </tr>\n",
              "    <tr>\n",
              "      <th>income</th>\n",
              "      <td>0</td>\n",
              "      <td>0.00</td>\n",
              "    </tr>\n",
              "  </tbody>\n",
              "</table>\n",
              "</div>"
            ],
            "text/plain": [
              "                Valores Faltantes  Porcentagem (%)\n",
              "occupation                   2809             5.80\n",
              "workclass                    2799             5.70\n",
              "native-country                857             1.80\n",
              "age                             0             0.00\n",
              "education                       0             0.00\n",
              "education-num                   0             0.00\n",
              "marital-status                  0             0.00\n",
              "relationship                    0             0.00\n",
              "race                            0             0.00\n",
              "sex                             0             0.00\n",
              "capital-gain                    0             0.00\n",
              "capital-loss                    0             0.00\n",
              "hours-per-week                  0             0.00\n",
              "income                          0             0.00"
            ]
          },
          "execution_count": 56,
          "metadata": {},
          "output_type": "execute_result"
        }
      ],
      "source": [
        "# Calculando o número, a percentagem dos valores faltantes.\n",
        "\n",
        "valoresFaltantes(dados_extendidos)"
      ]
    },
    {
      "cell_type": "markdown",
      "metadata": {
        "id": "i_krGGUUPDy6"
      },
      "source": [
        "Há valores faltantes apenas nas variáveis ***workclass***, ***occupation*** e ***native-country***, onde é possível notar que o número de valores faltantes nas variáveis ***workclass*** e ***occupation*** são praticamente iguais. Logo, quase sempre que houver um valor faltante em ***workclass***, haverá um valor faltante em ***occupation***."
      ]
    },
    {
      "cell_type": "markdown",
      "metadata": {
        "id": "JOKg0o11F3aN"
      },
      "source": [
        "# **4 Explorando as variáveis**"
      ]
    },
    {
      "cell_type": "markdown",
      "metadata": {
        "id": "0iq-1IefG8h8"
      },
      "source": [
        "Separando as variáveis numéricas e categóricas em conjuntos de dados diferentes para tratá-las separadamente."
      ]
    },
    {
      "cell_type": "code",
      "execution_count": 57,
      "metadata": {},
      "outputs": [
        {
          "data": {
            "text/plain": [
              "native-country\n",
              "United-States                 43831\n",
              "Mexico                          951\n",
              "Philippines                     295\n",
              "Germany                         206\n",
              "Puerto-Rico                     184\n",
              "Canada                          182\n",
              "El-Salvador                     155\n",
              "India                           151\n",
              "Cuba                            138\n",
              "England                         127\n",
              "China                           122\n",
              "South                           115\n",
              "Jamaica                         106\n",
              "Italy                           105\n",
              "Dominican-Republic              103\n",
              "Japan                            92\n",
              "Guatemala                        88\n",
              "Poland                           87\n",
              "Vietnam                          86\n",
              "Columbia                         85\n",
              "Haiti                            75\n",
              "Portugal                         67\n",
              "Taiwan                           65\n",
              "Iran                             59\n",
              "Greece                           49\n",
              "Nicaragua                        49\n",
              "Peru                             46\n",
              "Ecuador                          45\n",
              "France                           38\n",
              "Ireland                          37\n",
              "Hong                             30\n",
              "Thailand                         30\n",
              "Cambodia                         28\n",
              "Trinadad&Tobago                  27\n",
              "Laos                             23\n",
              "Yugoslavia                       23\n",
              "Outlying-US(Guam-USVI-etc)       23\n",
              "Scotland                         21\n",
              "Honduras                         20\n",
              "Hungary                          19\n",
              "Holand-Netherlands                1\n",
              "Name: count, dtype: int64"
            ]
          },
          "execution_count": 57,
          "metadata": {},
          "output_type": "execute_result"
        }
      ],
      "source": [
        "dados_extendidos['native-country'].value_counts()"
      ]
    },
    {
      "cell_type": "markdown",
      "metadata": {},
      "source": [
        "<p>Observe que a maioria dos respondentes são Estadunidenses. Portanto, vamos considerar os demais países como 'outros'.</p>"
      ]
    },
    {
      "cell_type": "code",
      "execution_count": 58,
      "metadata": {
        "id": "-FM8g6fiHRak"
      },
      "outputs": [
        {
          "data": {
            "text/plain": [
              "array(['United-States', 'Others'], dtype=object)"
            ]
          },
          "execution_count": 58,
          "metadata": {},
          "output_type": "execute_result"
        }
      ],
      "source": [
        "# Criando conjuntos de dados diferentes para as variáveis numéricas e categóricas.\n",
        "\n",
        "num_data= dados_extendidos[['age', 'education-num', 'capital-gain', 'capital-loss', 'hours-per-week']]\n",
        "cat_data= dados_extendidos.select_dtypes(include=['object'])\n",
        "cat_data['native-country'] = cat_data['native-country'].apply(lambda country: country if country=='United-States' else 'Others')\n",
        "dados_extendidos['native-country'] = cat_data['native-country']\n",
        "cat_data['native-country'].unique()\n"
      ]
    },
    {
      "cell_type": "markdown",
      "metadata": {
        "id": "GUrm3CSOHPyN"
      },
      "source": [
        "## **4.1 Explorando as variáveis numéricas**"
      ]
    },
    {
      "cell_type": "markdown",
      "metadata": {
        "id": "dssUDoRhIs0t"
      },
      "source": [
        "Usamos o método **.describe** do Pandas para fazemos um sumário com as estatísticas descritivas básicas de todas as vairáveis numéricas, como os valores mínimos, médios, máximos, desvio padrão, etc."
      ]
    },
    {
      "cell_type": "code",
      "execution_count": 59,
      "metadata": {
        "colab": {
          "base_uri": "https://localhost:8080/",
          "height": 300
        },
        "id": "Mp3JePOQ3b5a",
        "outputId": "09c912ae-8baf-49eb-98c8-575b22c9120f"
      },
      "outputs": [
        {
          "data": {
            "text/html": [
              "<div>\n",
              "<style scoped>\n",
              "    .dataframe tbody tr th:only-of-type {\n",
              "        vertical-align: middle;\n",
              "    }\n",
              "\n",
              "    .dataframe tbody tr th {\n",
              "        vertical-align: top;\n",
              "    }\n",
              "\n",
              "    .dataframe thead th {\n",
              "        text-align: right;\n",
              "    }\n",
              "</style>\n",
              "<table border=\"1\" class=\"dataframe\">\n",
              "  <thead>\n",
              "    <tr style=\"text-align: right;\">\n",
              "      <th></th>\n",
              "      <th>age</th>\n",
              "      <th>education-num</th>\n",
              "      <th>capital-gain</th>\n",
              "      <th>capital-loss</th>\n",
              "      <th>hours-per-week</th>\n",
              "    </tr>\n",
              "  </thead>\n",
              "  <tbody>\n",
              "    <tr>\n",
              "      <th>count</th>\n",
              "      <td>48841.00</td>\n",
              "      <td>48841.00</td>\n",
              "      <td>48841.00</td>\n",
              "      <td>48841.00</td>\n",
              "      <td>48841.00</td>\n",
              "    </tr>\n",
              "    <tr>\n",
              "      <th>mean</th>\n",
              "      <td>38.64</td>\n",
              "      <td>10.08</td>\n",
              "      <td>1079.05</td>\n",
              "      <td>87.50</td>\n",
              "      <td>40.42</td>\n",
              "    </tr>\n",
              "    <tr>\n",
              "      <th>std</th>\n",
              "      <td>13.71</td>\n",
              "      <td>2.57</td>\n",
              "      <td>7452.09</td>\n",
              "      <td>403.01</td>\n",
              "      <td>12.39</td>\n",
              "    </tr>\n",
              "    <tr>\n",
              "      <th>min</th>\n",
              "      <td>17.00</td>\n",
              "      <td>1.00</td>\n",
              "      <td>0.00</td>\n",
              "      <td>0.00</td>\n",
              "      <td>1.00</td>\n",
              "    </tr>\n",
              "    <tr>\n",
              "      <th>25%</th>\n",
              "      <td>28.00</td>\n",
              "      <td>9.00</td>\n",
              "      <td>0.00</td>\n",
              "      <td>0.00</td>\n",
              "      <td>40.00</td>\n",
              "    </tr>\n",
              "    <tr>\n",
              "      <th>50%</th>\n",
              "      <td>37.00</td>\n",
              "      <td>10.00</td>\n",
              "      <td>0.00</td>\n",
              "      <td>0.00</td>\n",
              "      <td>40.00</td>\n",
              "    </tr>\n",
              "    <tr>\n",
              "      <th>75%</th>\n",
              "      <td>48.00</td>\n",
              "      <td>12.00</td>\n",
              "      <td>0.00</td>\n",
              "      <td>0.00</td>\n",
              "      <td>45.00</td>\n",
              "    </tr>\n",
              "    <tr>\n",
              "      <th>max</th>\n",
              "      <td>90.00</td>\n",
              "      <td>16.00</td>\n",
              "      <td>99999.00</td>\n",
              "      <td>4356.00</td>\n",
              "      <td>99.00</td>\n",
              "    </tr>\n",
              "  </tbody>\n",
              "</table>\n",
              "</div>"
            ],
            "text/plain": [
              "           age  education-num  capital-gain  capital-loss  hours-per-week\n",
              "count 48841.00       48841.00      48841.00      48841.00        48841.00\n",
              "mean     38.64          10.08       1079.05         87.50           40.42\n",
              "std      13.71           2.57       7452.09        403.01           12.39\n",
              "min      17.00           1.00          0.00          0.00            1.00\n",
              "25%      28.00           9.00          0.00          0.00           40.00\n",
              "50%      37.00          10.00          0.00          0.00           40.00\n",
              "75%      48.00          12.00          0.00          0.00           45.00\n",
              "max      90.00          16.00      99999.00       4356.00           99.00"
            ]
          },
          "execution_count": 59,
          "metadata": {},
          "output_type": "execute_result"
        }
      ],
      "source": [
        "# Sumário das variáveis numéricas\n",
        "\n",
        "pd.set_option('display.float_format', lambda x: '%.2f' % x)\n",
        "dados_extendidos.describe()"
      ]
    },
    {
      "cell_type": "markdown",
      "metadata": {},
      "source": [
        "<p>Os dados de 'hours-per-week' possuem valores mínimo de <b>1h</b> e máximo de <b>99h</b>. Ou seja, provavelmente foram informados incorretamente ou erros na entrada dos dados.\n",
        "</p>"
      ]
    },
    {
      "cell_type": "markdown",
      "metadata": {
        "id": "TtWJBRi9J5Z_"
      },
      "source": [
        "Plotamos os histogramas com as distribuições de todas as variáveis numéricas"
      ]
    },
    {
      "cell_type": "code",
      "execution_count": 60,
      "metadata": {
        "colab": {
          "base_uri": "https://localhost:8080/",
          "height": 976
        },
        "id": "iel0BW19KWfZ",
        "outputId": "408d07b0-80db-464e-c849-9c82e773f722"
      },
      "outputs": [
        {
          "data": {
            "image/png": "[encoded data removed]",
            "text/plain": [
              "<Figure size 2000x1500 with 6 Axes>"
            ]
          },
          "metadata": {},
          "output_type": "display_data"
        }
      ],
      "source": [
        "num_data.hist(bins=20, figsize=(20, 15), histtype='step')\n",
        "plt.show()"
      ]
    },
    {
      "cell_type": "markdown",
      "metadata": {
        "id": "XHXd3Xj7aZEk"
      },
      "source": [
        "##### **Observações:**"
      ]
    },
    {
      "cell_type": "markdown",
      "metadata": {
        "id": "wY6Fy9ygMMRZ"
      },
      "source": [
        "\n",
        "\n",
        "*   O pico da variável **idade** é idade abaixo de 50 anos.\n",
        "*   O máximo da variável **fnlwgts** está abaixo de 400k.\n",
        "*   Muito poucas pessoas investem em capital e há alguns casos discrepantes, como:\n",
        "    *   Pessoas que ganham mais de US$ 90.000,00 por meio de **ganhos de capital**.\n",
        "    *   No entanto, para pessoas que sofreram  **perda de capital** a perda média é cerca de US$ 2.000,00.\n",
        "    *   Obseve que a maioria das pessoas não tiveram perda de capital.\n",
        "*   A maioria das pessoas trabalha cerca de **40 horas semanais**.\n",
        "    *   Também há outliers como alguns casos de pessoas trabalhando **100 horas** e **1 hora** por semana.\n",
        "\n",
        "\n",
        "\n"
      ]
    },
    {
      "cell_type": "markdown",
      "metadata": {
        "id": "ZQLoxfHMbkYL"
      },
      "source": [
        "#### **Correlações entre as variáveis numéricas**"
      ]
    },
    {
      "cell_type": "markdown",
      "metadata": {
        "id": "I-jLADkqOYK2"
      },
      "source": [
        "Iremos, então, analisar a correlação entre as variáveis numéricas."
      ]
    },
    {
      "cell_type": "code",
      "execution_count": 61,
      "metadata": {
        "id": "T4usmSYPOSMd"
      },
      "outputs": [],
      "source": [
        "# Criando Função para gerar o heatmap com as correlações das variáveis numéricas.\n",
        "\n",
        "def heatMap(data):\n",
        "  sns.heatmap(data.corr(), annot=True, fmt='.2f')\n",
        "  #print(data.corr())"
      ]
    },
    {
      "cell_type": "code",
      "execution_count": 62,
      "metadata": {
        "colab": {
          "base_uri": "https://localhost:8080/",
          "height": 529
        },
        "id": "LxqObOFpZI_H",
        "outputId": "a03d279c-3d56-496b-e7c1-6fce24252bcc"
      },
      "outputs": [
        {
          "data": {
            "image/png": "[encoded data removed]",
            "text/plain": [
              "<Figure size 640x480 with 2 Axes>"
            ]
          },
          "metadata": {},
          "output_type": "display_data"
        }
      ],
      "source": [
        "heatMap(num_data)"
      ]
    },
    {
      "cell_type": "markdown",
      "metadata": {
        "id": "10Xt7yPzasuP"
      },
      "source": [
        "##### **Observações:**"
      ]
    },
    {
      "cell_type": "markdown",
      "metadata": {
        "id": "l78z299jaPPs"
      },
      "source": [
        "*   A variável **fnlwgt** não possui correlação significativa com nenhuma das outras variáveis, portanto, é uma variável descartável para a análise.\n",
        "*   As variáveis **número de escolaridade**, **horas trabalhadas por semana** e **ganho capital** têm algumas correlações que valem a pena serem exploradas e podem ser melhoradas."
      ]
    },
    {
      "cell_type": "markdown",
      "metadata": {
        "id": "QB80y1h1cPjy"
      },
      "source": [
        "#### **Relações entre as variáveis numéricas e a Renda**"
      ]
    },
    {
      "cell_type": "code",
      "execution_count": 63,
      "metadata": {
        "colab": {
          "base_uri": "https://localhost:8080/",
          "height": 143
        },
        "id": "P4MaIEypcQv9",
        "outputId": "26e391e7-e899-4aa8-cfe9-405e2770df70"
      },
      "outputs": [
        {
          "data": {
            "text/html": [
              "<div>\n",
              "<style scoped>\n",
              "    .dataframe tbody tr th:only-of-type {\n",
              "        vertical-align: middle;\n",
              "    }\n",
              "\n",
              "    .dataframe tbody tr th {\n",
              "        vertical-align: top;\n",
              "    }\n",
              "\n",
              "    .dataframe thead th {\n",
              "        text-align: right;\n",
              "    }\n",
              "</style>\n",
              "<table border=\"1\" class=\"dataframe\">\n",
              "  <thead>\n",
              "    <tr style=\"text-align: right;\">\n",
              "      <th></th>\n",
              "      <th>age</th>\n",
              "      <th>capital-gain</th>\n",
              "      <th>capital-loss</th>\n",
              "      <th>education-num</th>\n",
              "      <th>hours-per-week</th>\n",
              "    </tr>\n",
              "    <tr>\n",
              "      <th>income</th>\n",
              "      <th></th>\n",
              "      <th></th>\n",
              "      <th></th>\n",
              "      <th></th>\n",
              "      <th></th>\n",
              "    </tr>\n",
              "  </thead>\n",
              "  <tbody>\n",
              "    <tr>\n",
              "      <th>&lt;=50K</th>\n",
              "      <td>36.87</td>\n",
              "      <td>146.96</td>\n",
              "      <td>54.15</td>\n",
              "      <td>9.60</td>\n",
              "      <td>38.84</td>\n",
              "    </tr>\n",
              "    <tr>\n",
              "      <th>&gt;50K</th>\n",
              "      <td>44.28</td>\n",
              "      <td>4042.24</td>\n",
              "      <td>193.53</td>\n",
              "      <td>11.60</td>\n",
              "      <td>45.45</td>\n",
              "    </tr>\n",
              "  </tbody>\n",
              "</table>\n",
              "</div>"
            ],
            "text/plain": [
              "         age  capital-gain  capital-loss  education-num  hours-per-week\n",
              "income                                                                 \n",
              "<=50K  36.87        146.96         54.15           9.60           38.84\n",
              ">50K   44.28       4042.24        193.53          11.60           45.45"
            ]
          },
          "execution_count": 63,
          "metadata": {},
          "output_type": "execute_result"
        }
      ],
      "source": [
        "pd.pivot_table(dados_extendidos, index= ['income'], values=num_data.columns,dropna=True)"
      ]
    },
    {
      "cell_type": "markdown",
      "metadata": {},
      "source": [
        "##### **Observações:**"
      ]
    },
    {
      "cell_type": "markdown",
      "metadata": {
        "id": "Z2LYgDKvin8o"
      },
      "source": [
        "*   Pessoas com maior **renda** apresentam valores elevados em todos os atributos."
      ]
    },
    {
      "cell_type": "markdown",
      "metadata": {
        "id": "6lBQQNw9jJe5"
      },
      "source": [
        "## **4.2 Explorando as variáveis categóricas**"
      ]
    },
    {
      "cell_type": "markdown",
      "metadata": {
        "id": "X8USMoqUjNog"
      },
      "source": [
        "Começaremos plotando os gráficos de barra de todas as variáveis categóricas."
      ]
    },
    {
      "cell_type": "markdown",
      "metadata": {
        "id": "boPGniRbzV5E"
      },
      "source": [
        "##### **Observações:**"
      ]
    },
    {
      "cell_type": "markdown",
      "metadata": {
        "id": "6QQt5AnTzVp7"
      },
      "source": [
        "\n",
        "\n",
        "*   A maioria das pessoas trabalham no setor privado, com outras distribuídas quase uniformemente entre vários empregos governamentais e como autônomos.\n",
        "*   A maioria das pessoas possui diploma de Ensino Superior, do Ensino Médio ou cursou alguma faculdade. A distribuição é muito semelhante à dos anos de escolaridade (education-number), fato que pode ser melhor explorado.\n",
        "*   A maioria das pessoas casaram, sendo poucas as que divorciaram ou tornaram-se viúvas. Enquanto as demais não se casaram.\n",
        "*   As ocupações estão, em sua maioria, distribuídas de maneira uniforme e é difícil ver uma tendência quando há tantas categorias.\n",
        "*   A maioria das pessoas são maridos ou não têm família.\n",
        "*   A maioria das pessoas é branca, sendo os negros o único grupo etnico com número considerável na amostra.\n",
        "*   Há mais homens do que mulheres na amostra, o que também pode ser inferido do facto de a maioria das pessoas serem maridos.\n",
        "*   A grande maioria dos entrevistados é dos EUA.\n",
        "*   Como comentado anteriormente, há muito mais pessoas com Baixa Renda (inferior a 50 mil), do que pessoas de Alta Renda (superior à 50 mil), o que mostra que os dados estão muito desequilibrados."
      ]
    },
    {
      "cell_type": "markdown",
      "metadata": {
        "id": "vrHlaHlY1Cg-"
      },
      "source": [
        "# **5. Engenharia de atributos**"
      ]
    },
    {
      "cell_type": "markdown",
      "metadata": {
        "id": "tJbaB-hz17zE"
      },
      "source": [
        "A maioria dos atributos categóricos são muito confusos, com número excessivo de categorias. Então, podemos fazer uma engenharia de atributos para agrupar categorias semelhantes para aprimorar os atributos.\n",
        "\n",
        "Começamos observando o número de categorias de cada variável categórica."
      ]
    },
    {
      "cell_type": "code",
      "execution_count": 64,
      "metadata": {},
      "outputs": [],
      "source": [
        "#dropando valores faltantes\n",
        "dados_extendidos.dropna(inplace=True)"
      ]
    },
    {
      "cell_type": "code",
      "execution_count": 65,
      "metadata": {},
      "outputs": [
        {
          "data": {
            "text/plain": [
              "age               0\n",
              "workclass         0\n",
              "education         0\n",
              "education-num     0\n",
              "marital-status    0\n",
              "occupation        0\n",
              "relationship      0\n",
              "race              0\n",
              "sex               0\n",
              "capital-gain      0\n",
              "capital-loss      0\n",
              "hours-per-week    0\n",
              "native-country    0\n",
              "income            0\n",
              "dtype: int64"
            ]
          },
          "execution_count": 65,
          "metadata": {},
          "output_type": "execute_result"
        }
      ],
      "source": [
        "dados_extendidos.isna().sum()"
      ]
    },
    {
      "cell_type": "code",
      "execution_count": 66,
      "metadata": {
        "colab": {
          "base_uri": "https://localhost:8080/"
        },
        "id": "lr4RRQe52bNt",
        "outputId": "51905151-e87b-4659-bbb6-73f49be23def",
        "scrolled": true
      },
      "outputs": [
        {
          "name": "stdout",
          "output_type": "stream",
          "text": [
            "['Self-emp-not-inc' 'Private' 'State-gov' 'Federal-gov' 'Local-gov'\n",
            " 'Self-emp-inc' 'Without-pay']\n",
            "['Bachelors' 'HS-grad' '11th' 'Masters' '9th' 'Some-college' 'Assoc-acdm'\n",
            " 'Assoc-voc' '7th-8th' 'Doctorate' 'Prof-school' '5th-6th' '10th'\n",
            " 'Preschool' '12th' '1st-4th']\n"
          ]
        },
        {
          "ename": "ValueError",
          "evalue": "index can't contain negative values",
          "output_type": "error",
          "traceback": [
            "\u001b[1;31m---------------------------------------------------------------------------\u001b[0m",
            "\u001b[1;31mValueError\u001b[0m                                Traceback (most recent call last)",
            "Cell \u001b[1;32mIn [66], line 22\u001b[0m\n\u001b[0;32m     20\u001b[0m \u001b[38;5;28;01mfor\u001b[39;00m i \u001b[38;5;129;01min\u001b[39;00m data_col:\n\u001b[0;32m     21\u001b[0m     \u001b[38;5;28mprint\u001b[39m(i)\n\u001b[1;32m---> 22\u001b[0m     cat_col\u001b[38;5;241m.\u001b[39mappend(\u001b[43mnp\u001b[49m\u001b[38;5;241;43m.\u001b[39;49m\u001b[43mpad\u001b[49m\u001b[43m(\u001b[49m\u001b[43mi\u001b[49m\u001b[43m,\u001b[49m\u001b[43m \u001b[49m\u001b[43m(\u001b[49m\u001b[38;5;241;43m0\u001b[39;49m\u001b[43m,\u001b[49m\u001b[43m \u001b[49m\u001b[43m(\u001b[49m\u001b[38;5;28;43mlen\u001b[39;49m\u001b[43m(\u001b[49m\u001b[43mwkclass\u001b[49m\u001b[43m)\u001b[49m\u001b[38;5;241;43m-\u001b[39;49m\u001b[38;5;28;43mlen\u001b[39;49m\u001b[43m(\u001b[49m\u001b[43mi\u001b[49m\u001b[43m)\u001b[49m\u001b[43m)\u001b[49m\u001b[43m)\u001b[49m\u001b[43m,\u001b[49m\u001b[43m \u001b[49m\u001b[38;5;124;43m'\u001b[39;49m\u001b[38;5;124;43mempty\u001b[39;49m\u001b[38;5;124;43m'\u001b[39;49m\u001b[43m)\u001b[49m)\n\u001b[0;32m     23\u001b[0m \u001b[38;5;66;03m#cat_col.append(country)\u001b[39;00m\n\u001b[0;32m     24\u001b[0m \n\u001b[0;32m     25\u001b[0m \u001b[38;5;66;03m# Gerando o dataframe com os valores das variáveis categóricas.\u001b[39;00m\n\u001b[0;32m     27\u001b[0m categorias \u001b[38;5;241m=\u001b[39m pd\u001b[38;5;241m.\u001b[39mDataFrame(\u001b[38;5;28mdict\u001b[39m(\u001b[38;5;28mzip\u001b[39m(cat_rotulos, cat_col)))\n",
            "File \u001b[1;32m<__array_function__ internals>:180\u001b[0m, in \u001b[0;36mpad\u001b[1;34m(*args, **kwargs)\u001b[0m\n",
            "File \u001b[1;32mc:\\Users\\Marcelo\\AppData\\Local\\Programs\\Python\\Python311\\Lib\\site-packages\\numpy\\lib\\arraypad.py:743\u001b[0m, in \u001b[0;36mpad\u001b[1;34m(array, pad_width, mode, **kwargs)\u001b[0m\n\u001b[0;32m    740\u001b[0m     \u001b[38;5;28;01mraise\u001b[39;00m \u001b[38;5;167;01mTypeError\u001b[39;00m(\u001b[38;5;124m'\u001b[39m\u001b[38;5;124m`pad_width` must be of integral type.\u001b[39m\u001b[38;5;124m'\u001b[39m)\n\u001b[0;32m    742\u001b[0m \u001b[38;5;66;03m# Broadcast to shape (array.ndim, 2)\u001b[39;00m\n\u001b[1;32m--> 743\u001b[0m pad_width \u001b[38;5;241m=\u001b[39m \u001b[43m_as_pairs\u001b[49m\u001b[43m(\u001b[49m\u001b[43mpad_width\u001b[49m\u001b[43m,\u001b[49m\u001b[43m \u001b[49m\u001b[43marray\u001b[49m\u001b[38;5;241;43m.\u001b[39;49m\u001b[43mndim\u001b[49m\u001b[43m,\u001b[49m\u001b[43m \u001b[49m\u001b[43mas_index\u001b[49m\u001b[38;5;241;43m=\u001b[39;49m\u001b[38;5;28;43;01mTrue\u001b[39;49;00m\u001b[43m)\u001b[49m\n\u001b[0;32m    745\u001b[0m \u001b[38;5;28;01mif\u001b[39;00m callable(mode):\n\u001b[0;32m    746\u001b[0m     \u001b[38;5;66;03m# Old behavior: Use user-supplied function with np.apply_along_axis\u001b[39;00m\n\u001b[0;32m    747\u001b[0m     function \u001b[38;5;241m=\u001b[39m mode\n",
            "File \u001b[1;32mc:\\Users\\Marcelo\\AppData\\Local\\Programs\\Python\\Python311\\Lib\\site-packages\\numpy\\lib\\arraypad.py:510\u001b[0m, in \u001b[0;36m_as_pairs\u001b[1;34m(x, ndim, as_index)\u001b[0m\n\u001b[0;32m    508\u001b[0m         x \u001b[38;5;241m=\u001b[39m x\u001b[38;5;241m.\u001b[39mravel()  \u001b[38;5;66;03m# Ensure x[0], x[1] works\u001b[39;00m\n\u001b[0;32m    509\u001b[0m         \u001b[38;5;28;01mif\u001b[39;00m as_index \u001b[38;5;129;01mand\u001b[39;00m (x[\u001b[38;5;241m0\u001b[39m] \u001b[38;5;241m<\u001b[39m \u001b[38;5;241m0\u001b[39m \u001b[38;5;129;01mor\u001b[39;00m x[\u001b[38;5;241m1\u001b[39m] \u001b[38;5;241m<\u001b[39m \u001b[38;5;241m0\u001b[39m):\n\u001b[1;32m--> 510\u001b[0m             \u001b[38;5;28;01mraise\u001b[39;00m \u001b[38;5;167;01mValueError\u001b[39;00m(\u001b[38;5;124m\"\u001b[39m\u001b[38;5;124mindex can\u001b[39m\u001b[38;5;124m'\u001b[39m\u001b[38;5;124mt contain negative values\u001b[39m\u001b[38;5;124m\"\u001b[39m)\n\u001b[0;32m    511\u001b[0m         \u001b[38;5;28;01mreturn\u001b[39;00m ((x[\u001b[38;5;241m0\u001b[39m], x[\u001b[38;5;241m1\u001b[39m]),) \u001b[38;5;241m*\u001b[39m ndim\n\u001b[0;32m    513\u001b[0m \u001b[38;5;28;01mif\u001b[39;00m as_index \u001b[38;5;129;01mand\u001b[39;00m x\u001b[38;5;241m.\u001b[39mmin() \u001b[38;5;241m<\u001b[39m \u001b[38;5;241m0\u001b[39m:\n",
            "\u001b[1;31mValueError\u001b[0m: index can't contain negative values"
          ]
        }
      ],
      "source": [
        "# Computando valores únicos de cada variável categórica\n",
        "\n",
        "cat_rotulos = ['workclass', 'education', 'marital-status', 'occupation', 'relationship', 'race', 'sex', 'native-country']\n",
        "wkclass = dados_extendidos['workclass'].unique()\n",
        "edu = dados_extendidos['education'].unique()\n",
        "estciv = dados_extendidos['marital-status'].unique()\n",
        "ocup = dados_extendidos['occupation'].unique()\n",
        "relat = dados_extendidos['relationship'].unique()\n",
        "race = dados_extendidos['race'].unique()\n",
        "sex = dados_extendidos['sex'].unique()\n",
        "country = dados_extendidos['native-country'].unique()\n",
        "\n",
        "# Gerando um array com os valores únicos de cada variável.\n",
        "\n",
        "data_col=[wkclass, edu, estciv, ocup, relat, race, sex, country]\n",
        "\n",
        "# Uniformizando o tamanho dos arrays\n",
        "\n",
        "cat_col = []\n",
        "for i in data_col:\n",
        "    print(i)\n",
        "    cat_col.append(np.pad(i, (0, (len(wkclass)-len(i))), 'empty'))\n",
        "#cat_col.append(country)\n",
        "\n",
        "# Gerando o dataframe com os valores das variáveis categóricas.\n",
        "\n",
        "categorias = pd.DataFrame(dict(zip(cat_rotulos, cat_col)))\n",
        "categorias.head()"
      ]
    },
    {
      "cell_type": "markdown",
      "metadata": {
        "id": "LkbDYopt2DFi"
      },
      "source": [
        "#### **Classe de trabalho** (*workclass*)"
      ]
    },
    {
      "cell_type": "markdown",
      "metadata": {
        "id": "Gdy0Znye5Kqr"
      },
      "source": [
        "Iremos iniciar reduzindo o número de categorias da variável Classe de trabalho (workclass), agrupando diversas categorias que apresentam afinidade entre si, criando apenas 4 grupos representando setores distintos da economia, são eles:\n",
        "*   Privado\n",
        "*   Governo\n",
        "*   Autônomo\n",
        "*   Outros"
      ]
    },
    {
      "cell_type": "code",
      "execution_count": null,
      "metadata": {
        "colab": {
          "base_uri": "https://localhost:8080/",
          "height": 745
        },
        "id": "gjiNNAKh1AfG",
        "outputId": "6f8e97fc-ed9f-46a4-b49b-0623a8bedc20"
      },
      "outputs": [],
      "source": [
        "# Agrupando as classes de trabalho por afinidade.\n",
        "\n",
        "data['workclass'].replace(['State-gov', 'Federal-gov', 'Local-gov'], 'Government', inplace=True)\n",
        "data['workclass'].replace(['Self-emp-not-inc', 'Self-emp-inc'], 'Self', inplace=True)\n",
        "data['workclass'].replace(['Without-pay', 'Never-worked'], 'Others', inplace=True)\n",
        "\n",
        "plt.figure(figsize=(16, 4))\n",
        "sns.countplot(data=data, x='workclass')\n",
        "plt.figure(figsize=(16, 4))\n",
        "sns.countplot(data=data, x='workclass', hue='income')"
      ]
    },
    {
      "cell_type": "markdown",
      "metadata": {
        "id": "75vF5z6U45Ux"
      },
      "source": [
        "#### **Educação e Escolaridade** (*education* e *education-number*)"
      ]
    },
    {
      "cell_type": "markdown",
      "metadata": {
        "id": "bOC2el2L45GV"
      },
      "source": [
        "Verificando a interseção entre as variáveis Educação e Escolaridade"
      ]
    },
    {
      "cell_type": "code",
      "execution_count": null,
      "metadata": {
        "colab": {
          "base_uri": "https://localhost:8080/"
        },
        "id": "UiWCjfOK46VH",
        "outputId": "aa099059-95b5-4f09-8f12-e76b016ae534"
      },
      "outputs": [
        {
          "data": {
            "text/plain": [
              "education\n",
              "10th            1\n",
              "11th            1\n",
              "12th            1\n",
              "1st-4th         1\n",
              "5th-6th         1\n",
              "7th-8th         1\n",
              "9th             1\n",
              "Assoc-acdm      1\n",
              "Assoc-voc       1\n",
              "Bachelors       1\n",
              "Doctorate       1\n",
              "HS-grad         1\n",
              "Masters         1\n",
              "Preschool       1\n",
              "Prof-school     1\n",
              "Some-college    1\n",
              "Name: education-num, dtype: int64"
            ]
          },
          "execution_count": 25,
          "metadata": {},
          "output_type": "execute_result"
        }
      ],
      "source": [
        "# Verificando a interseção entre educação e escolaridade.\n",
        "\n",
        "dados_extendidos.groupby('education').nunique()['education-num']"
      ]
    },
    {
      "cell_type": "markdown",
      "metadata": {
        "id": "fcOX0FxS7X2S"
      },
      "source": [
        "Isso implica que *Educação* (education) e *Escolaridade* (education-num) representam exatamente a mesma informação. E já está diretamente codificada na base de dados, então podemos usar apenas um dos dois e descartar o outro."
      ]
    },
    {
      "cell_type": "code",
      "execution_count": null,
      "metadata": {
        "id": "RnGB-sh37LmO"
      },
      "outputs": [],
      "source": [
        "# Agrupando os níveis de escolaride por afinidade.\n",
        "\n",
        "data['education'].replace(['11th', '9th', '7th-8th', '5th-6th', '10th', '1st-4th', 'Preschool', '12th'], 'School-Dropout', inplace=True)\n",
        "data['education'].replace(['Some-college', 'Assoc-acdm', 'Assoc-voc'], 'College', inplace=True)\n",
        "data['education'].replace('Prof-school', 'Masters', inplace=True)"
      ]
    },
    {
      "cell_type": "code",
      "execution_count": null,
      "metadata": {
        "id": "Qk5b8mkEPDzD",
        "outputId": "7e3003a2-95b6-4042-bd2e-627694bd1526"
      },
      "outputs": [
        {
          "data": {
            "image/png": "[encoded data removed]",
            "text/plain": [
              "<Figure size 2000x500 with 1 Axes>"
            ]
          },
          "metadata": {},
          "output_type": "display_data"
        },
        {
          "data": {
            "image/png": "[encoded data removed]",
            "text/plain": [
              "<Figure size 2000x500 with 1 Axes>"
            ]
          },
          "metadata": {},
          "output_type": "display_data"
        }
      ],
      "source": [
        "# Plotando os gráficos\n",
        "\n",
        "plt.figure(figsize=(20, 5))\n",
        "sns.countplot(data=dados_extendidos, x='education')\n",
        "\n",
        "plt.figure(figsize=(20,5))\n",
        "sns.countplot(data=dados_extendidos, x='education', hue='income')\n",
        "plt.show()"
      ]
    },
    {
      "cell_type": "code",
      "execution_count": null,
      "metadata": {},
      "outputs": [
        {
          "data": {
            "image/png": "[encoded data removed]",
            "text/plain": [
              "<Figure size 2000x500 with 1 Axes>"
            ]
          },
          "metadata": {},
          "output_type": "display_data"
        }
      ],
      "source": [
        "plt.figure(figsize=(20, 5))\n",
        "\n",
        "sns.countplot(data=dados_extendidos,x='education',hue='income',palette='Set1')\n",
        "plt.show()"
      ]
    },
    {
      "cell_type": "markdown",
      "metadata": {
        "id": "DXdRODYd90uw"
      },
      "source": [
        "##### **Observações:**"
      ]
    },
    {
      "cell_type": "markdown",
      "metadata": {
        "id": "qM4X20Vy90iy"
      },
      "source": [
        "*   Mestres e Doutores são muito bem remunerados em comparação com demais níveis de ensino.\n",
        "*   A maioria das pessoas de baixa renda abandonou o ensino básico ou concluiu apenas o ensino médio\n"
      ]
    },
    {
      "cell_type": "markdown",
      "metadata": {
        "id": "g21LOJ3g-D2Z"
      },
      "source": [
        "#### **Estado Civil** (*marital-status*)"
      ]
    },
    {
      "cell_type": "markdown",
      "metadata": {
        "id": "Cd1Za3y9-DxE"
      },
      "source": [
        "Iremos reduzir o número de categorias da variável Estado Civil (marital-status), agrupando diversas categorias que apresentam afinidade entre si, criando apenas 4 grupos representando setores distintos da economia, são eles:\n",
        "*   Solteiro(a)\n",
        "*   Casado(a)\n",
        "*   Divorciado(a)\n",
        "*   Viúvo(a)  "
      ]
    },
    {
      "cell_type": "code",
      "execution_count": null,
      "metadata": {
        "colab": {
          "base_uri": "https://localhost:8080/",
          "height": 747
        },
        "id": "MEB-kqzr-e8q",
        "outputId": "012ccf01-e3a4-424a-f4b5-ae7d455efc88"
      },
      "outputs": [],
      "source": [
        "# Agrupando os estados civis por afinidade.\n",
        "\n",
        "#data['marital-status'].replace(['Married-AF-spouse', 'Married-civ-spouse', 'Married-spouse-absent'], 'Married', inplace=True)\n",
        "#data['marital-status'].replace('Divorced', 'Separated',inplace=True)\n",
        "\n",
        "plt.figure(figsize=(16, 4))\n",
        "sns.countplot(data=dados_extendidos, x='marital-status')\n",
        "\n",
        "plt.figure(figsize=(16,4))\n",
        "sns.countplot(data=dados_extendidos, x='marital-status', hue='income')"
      ]
    },
    {
      "cell_type": "markdown",
      "metadata": {
        "id": "HDO5d5Re_8cX"
      },
      "source": [
        "##### **Observações:**"
      ]
    },
    {
      "cell_type": "markdown",
      "metadata": {
        "id": "E_1wjBfhAcYh"
      },
      "source": [
        "*   Quase todas as pessoas com renda superior a 50 mil são casadas.\n",
        "*   As pessoas solteiras têm renda comparativamente muito mais baixa."
      ]
    },
    {
      "cell_type": "markdown",
      "metadata": {
        "id": "cY2D-KhnA0AF"
      },
      "source": [
        "#### **Ocupação** (*occupation*)"
      ]
    },
    {
      "cell_type": "markdown",
      "metadata": {
        "id": "GRDtCnpQA0AN"
      },
      "source": [
        "Iremos iniciar reduzindo o número de categorias da variável Ocupação (occupation), agrupando diversas categorias pelo tipo de trabalho que desempenham, criando apenas 6 grupos representando setores distintos da economia, são eles:\n",
        "*   Trabalhadores Operacional (Operários)\n",
        "*   Trabalhadores Administrativo e Executivo\n",
        "*   Trabalhadores do Conhecimento\n",
        "*   Trabalhadores em Vendas e Serviços\n",
        "*   Trabalhadores do Setor primário (agricultura, pecuária, pesca, extrativismo)\n",
        "*   Militares"
      ]
    },
    {
      "cell_type": "code",
      "execution_count": null,
      "metadata": {
        "colab": {
          "base_uri": "https://localhost:8080/",
          "height": 747
        },
        "id": "g5Lfc0k7Au7e",
        "outputId": "e7178c10-440b-464d-8895-9e2e05d254e9"
      },
      "outputs": [],
      "source": [
        "# Agrupando os ocupações por setor de trabalho.\n",
        "\n",
        "data['occupation'].replace(['Tech-support', 'Craft-repair', 'Handlers-cleaners', 'Transport-moving', 'Machine-op-inspct'], 'Blue-collar', inplace=True)\n",
        "data['occupation'].replace(['Exec-managerial', 'Adm-clerical'], 'White-collar', inplace=True)\n",
        "data['occupation'].replace('Prof-specialty', 'Gold-collar', inplace=True)\n",
        "data['occupation'].replace(['Other-service', 'Sales', 'Priv-house-serv', 'Protective-serv'], 'Pink-collar', inplace=True)\n",
        "data['occupation'].replace('Farming-fishing', 'Green-collar', inplace=True)\n",
        "data['occupation'].replace('Armed-Forces', 'Brown-collar', inplace=True)\n",
        "\n",
        "plt.figure(figsize=(16, 4))\n",
        "sns.countplot(data=data, x='occupation')\n",
        "\n",
        "plt.figure(figsize=(16,4))\n",
        "sns.countplot(data=data, x='occupation', hue='income')"
      ]
    },
    {
      "cell_type": "markdown",
      "metadata": {
        "id": "SkJYy4qJCh6P"
      },
      "source": [
        "##### **Observações:**"
      ]
    },
    {
      "cell_type": "markdown",
      "metadata": {
        "id": "TOYdOHkzCh18"
      },
      "source": [
        "*   Operários e trabalhadores do setor de vendas e serviços têm a renda mais baixa.\n",
        "*   Trabalhadores do conhecimento são as profissões mais bem pagas."
      ]
    },
    {
      "cell_type": "markdown",
      "metadata": {
        "id": "8iagxPK9DPsX"
      },
      "source": [
        "#### **País de origem** (*native-country*)"
      ]
    },
    {
      "cell_type": "markdown",
      "metadata": {
        "id": "5FRehPPXDPsX"
      },
      "source": [
        "Iremos reduzie o número de categorias da variável Paíos de origem (native-country), agrupando as nacionalidades em 2 grupos distintos, são eles:\n",
        "*   Estados Unidos\n",
        "*   Outros"
      ]
    },
    {
      "cell_type": "code",
      "execution_count": null,
      "metadata": {
        "colab": {
          "base_uri": "https://localhost:8080/",
          "height": 745
        },
        "id": "L4ahNrhvDPsY",
        "outputId": "d184bf63-3584-4124-c4e4-12236477e97a"
      },
      "outputs": [],
      "source": [
        "# Agrupando as nacionalidades em Estados Unidos e outros.\n",
        "\n",
        "#data['native-country'] = data['native-country'].map(lambda country: 'US' if country == 'United-States' else 'Other')\n",
        "\n",
        "#data.head()"
      ]
    },
    {
      "cell_type": "code",
      "execution_count": null,
      "metadata": {
        "id": "cgOsF8r-PDzF",
        "outputId": "208ca044-0e69-49ee-de65-d73deeeeb3d7"
      },
      "outputs": [
        {
          "data": {
            "text/plain": [
              "<Axes: xlabel='native-country', ylabel='count'>"
            ]
          },
          "execution_count": 28,
          "metadata": {},
          "output_type": "execute_result"
        },
        {
          "data": {
            "image/png": "[encoded data removed]",
            "text/plain": [
              "<Figure size 1600x400 with 1 Axes>"
            ]
          },
          "metadata": {},
          "output_type": "display_data"
        },
        {
          "data": {
            "image/png": "[encoded data removed]",
            "text/plain": [
              "<Figure size 1600x400 with 1 Axes>"
            ]
          },
          "metadata": {},
          "output_type": "display_data"
        }
      ],
      "source": [
        "# Plotando os gráficos\n",
        "\n",
        "plt.figure(figsize=(16, 4))\n",
        "sns.countplot(data=dados_extendidos, x='native-country')\n",
        "\n",
        "plt.figure(figsize=(16,4))\n",
        "sns.countplot(data=dados_extendidos, x='native-country', hue='income',palette='Set2')"
      ]
    },
    {
      "cell_type": "markdown",
      "metadata": {
        "id": "nfB5uRxBDPsY"
      },
      "source": [
        "##### **Observações:**"
      ]
    },
    {
      "cell_type": "markdown",
      "metadata": {
        "id": "520eanUlDPsY"
      },
      "source": [
        "*   Há uma quantidade desproporcionalmente maior de pessoas nascidas nos Estados Unidos, portanto a maioria das pessoas de alta renda também provém desse país."
      ]
    },
    {
      "cell_type": "markdown",
      "metadata": {
        "id": "elEGp-LaJlEy"
      },
      "source": [
        "#### **Idade** (*age*)"
      ]
    },
    {
      "cell_type": "markdown",
      "metadata": {
        "id": "Pwt08FXlJ1sr"
      },
      "source": [
        " Separamos as diversas idades em faixas etárias, para melhor caracterizar a distribbuição de idades e rendas do dataset. E em seguida plotamos o gráfico Faixa etária versus renda."
      ]
    },
    {
      "cell_type": "code",
      "execution_count": null,
      "metadata": {
        "colab": {
          "base_uri": "https://localhost:8080/",
          "height": 393
        },
        "id": "vo9Uwt6zJlEy",
        "outputId": "ec1b9fc5-62e3-46e0-e0ae-eb77b9133070"
      },
      "outputs": [
        {
          "data": {
            "text/plain": [
              "<Axes: xlabel='age-range', ylabel='count'>"
            ]
          },
          "execution_count": 29,
          "metadata": {},
          "output_type": "execute_result"
        },
        {
          "data": {
            "image/png": "[encoded data removed]",
            "text/plain": [
              "<Figure size 1600x400 with 1 Axes>"
            ]
          },
          "metadata": {},
          "output_type": "display_data"
        }
      ],
      "source": [
        "data['age-range']= pd.cut(data['age'], 10)\n",
        "\n",
        "plt.figure(figsize=(16,4))\n",
        "sns.countplot(data=data, x='age-range', hue='income')"
      ]
    },
    {
      "cell_type": "markdown",
      "metadata": {
        "id": "C8lW0-V4KFe5"
      },
      "source": [
        "##### **Observações:**"
      ]
    },
    {
      "cell_type": "markdown",
      "metadata": {
        "id": "S3t2bqySJlE3"
      },
      "source": [
        "*   Pessoas de maior renda tem idades na faixa dos 30 à 50 anos.\n",
        "*   Pessoa jovens tem renda muito menor do que pessoas de meia-idade."
      ]
    },
    {
      "cell_type": "markdown",
      "metadata": {
        "id": "RN7KR_AUJlE3"
      },
      "source": [
        "#### **Relacionamento familiar** (*relationship*)"
      ]
    },
    {
      "cell_type": "markdown",
      "metadata": {
        "id": "Du_a8GlYKqwL"
      },
      "source": [
        "Primeiro fazemos o gráfico das variáveis Relacionamento familiar versus a Renda."
      ]
    },
    {
      "cell_type": "code",
      "execution_count": null,
      "metadata": {
        "colab": {
          "base_uri": "https://localhost:8080/",
          "height": 393
        },
        "id": "0ogTrMy-JlE3",
        "outputId": "d8b6b9a8-eef6-43ad-ae93-ab5b1cf1d76e"
      },
      "outputs": [
        {
          "data": {
            "text/plain": [
              "<Axes: xlabel='relationship', ylabel='count'>"
            ]
          },
          "execution_count": 30,
          "metadata": {},
          "output_type": "execute_result"
        },
        {
          "data": {
            "image/png": "[encoded data removed]",
            "text/plain": [
              "<Figure size 1600x400 with 1 Axes>"
            ]
          },
          "metadata": {},
          "output_type": "display_data"
        }
      ],
      "source": [
        "plt.figure(figsize=(16,4))\n",
        "sns.countplot(data=data, x='relationship', hue='income')"
      ]
    },
    {
      "cell_type": "markdown",
      "metadata": {
        "id": "3v4a4B5sLi2O"
      },
      "source": [
        "##### **Observações:**"
      ]
    },
    {
      "cell_type": "markdown",
      "metadata": {
        "id": "kKH4pd9YJlE3"
      },
      "source": [
        "*   Maridos e esposas apresentam maior renda familiar, o que é condizente com o fato de que pessoas casadas ganham mais que os demais."
      ]
    },
    {
      "cell_type": "markdown",
      "metadata": {
        "id": "5uMHTZbYJlE4"
      },
      "source": [
        "#### **Sexo** (*sex*)"
      ]
    },
    {
      "cell_type": "markdown",
      "metadata": {
        "id": "6yJbpNbDLyQF"
      },
      "source": [
        "Primeiro fazemos o gráfico das variáveis Sexo versus a Renda."
      ]
    },
    {
      "cell_type": "code",
      "execution_count": null,
      "metadata": {
        "colab": {
          "base_uri": "https://localhost:8080/",
          "height": 467
        },
        "id": "Phpi3cWIJlE4",
        "outputId": "6f1f78c2-7847-4259-9b04-198f303f6c1b"
      },
      "outputs": [
        {
          "data": {
            "image/png": "[encoded data removed]",
            "text/plain": [
              "<Figure size 640x480 with 1 Axes>"
            ]
          },
          "metadata": {},
          "output_type": "display_data"
        }
      ],
      "source": [
        "# Seu código existente\n",
        "sns.countplot(data=dados_extendidos, x='sex', hue='income')\n",
        "plt.show()"
      ]
    },
    {
      "cell_type": "markdown",
      "metadata": {
        "id": "d35813lDLklg"
      },
      "source": [
        "##### **Observações:**"
      ]
    },
    {
      "cell_type": "markdown",
      "metadata": {
        "id": "Qo0t2eHmJlE4"
      },
      "source": [
        "*   Mais pessoas do sexo masculino tem alta renda do que do sexo feminino."
      ]
    },
    {
      "cell_type": "markdown",
      "metadata": {
        "id": "8CtXuhRYJlE4"
      },
      "source": [
        "#### **Raça** (*race*)"
      ]
    },
    {
      "cell_type": "markdown",
      "metadata": {
        "id": "CRh7-00YMPGr"
      },
      "source": [
        "Primeiro fazemos o gráfico das variáveis Raça versus a Renda."
      ]
    },
    {
      "cell_type": "code",
      "execution_count": null,
      "metadata": {
        "colab": {
          "base_uri": "https://localhost:8080/",
          "height": 390
        },
        "id": "BgtbY6DNJlE4",
        "outputId": "b87a62b3-1cd2-4fa3-db07-5e7e78db7cb8"
      },
      "outputs": [],
      "source": [
        "plt.figure(figsize=(16,4))\n",
        "sns.countplot(data=data, x='race', hue='income')"
      ]
    },
    {
      "cell_type": "markdown",
      "metadata": {
        "id": "gzocZsnoN0dl"
      },
      "source": [
        "##### **Observações:**"
      ]
    },
    {
      "cell_type": "markdown",
      "metadata": {
        "id": "3CGdvJs9JlE5"
      },
      "source": [
        "*   Como há muito mais pessoas brancas do que pertencentes à outras etnias, elas também apresentam maior renda. Entre as outras etnias, os negros são o grupo mais significativo em relação à renda."
      ]
    },
    {
      "cell_type": "markdown",
      "metadata": {
        "id": "wJ1ntIzAJlE5"
      },
      "source": [
        "#### **Horas (trabalhadas) por semana** (*hours-per-week*)"
      ]
    },
    {
      "cell_type": "markdown",
      "metadata": {
        "id": "FEFyNXGWNy0r"
      },
      "source": [
        " Separamos as horas trabalhadas por semanas em intervalos para melhor caracterizar a distribbuição entre a quantidade de horas trabalhadas e a renda. E em seguida plotamos o gráfico das faixas de horas trabalhadas versus renda."
      ]
    },
    {
      "cell_type": "code",
      "execution_count": null,
      "metadata": {
        "colab": {
          "base_uri": "https://localhost:8080/",
          "height": 390
        },
        "id": "J8F49JbeJlE5",
        "outputId": "60d6f492-b584-4d11-d682-00c0dd2a027f"
      },
      "outputs": [
        {
          "data": {
            "text/plain": [
              "<Axes: xlabel='h/w-range', ylabel='count'>"
            ]
          },
          "execution_count": 40,
          "metadata": {},
          "output_type": "execute_result"
        },
        {
          "data": {
            "image/png": "[encoded data removed]",
            "text/plain": [
              "<Figure size 1600x400 with 1 Axes>"
            ]
          },
          "metadata": {},
          "output_type": "display_data"
        }
      ],
      "source": [
        "data['h/w-range']= pd.cut(data['hours-per-week'], 5)\n",
        "\n",
        "plt.figure(figsize=(16,4))\n",
        "sns.countplot(data=data, x='h/w-range', hue='income')"
      ]
    },
    {
      "cell_type": "markdown",
      "metadata": {
        "id": "4AuwQAjROG8A"
      },
      "source": [
        "##### **Observações:**"
      ]
    },
    {
      "cell_type": "markdown",
      "metadata": {
        "id": "nIg3N9OKJlE5"
      },
      "source": [
        "*   Pessoas com maior renda trabalham entre 20 e 60 horas semanais."
      ]
    },
    {
      "cell_type": "markdown",
      "metadata": {
        "id": "jZm7b60_JlE5"
      },
      "source": [
        "# **6. Processamento dos dados**"
      ]
    },
    {
      "cell_type": "markdown",
      "metadata": {
        "id": "PoAWSr8SJlE6"
      },
      "source": [
        "Para o processamento dos dados realizou-se os seguintes procedimentos:\n",
        "*   Removeu-se outliers na variável ganho de capital para generalizar melhor os dados.\n",
        "*   Para lidar com os valores ausentes removeu-se registros com quaisquer atributos nulos. Visto que não fará uma diferença significativa no treinamento, pois os registros nulos representam apenas cerca de 5% de todos os dados de treinamento.\n",
        "*   Removeu-se duplicatas para evitar overfitting.\n",
        "*   Descartou-se a variável **fnlwgt** porque é um recurso inútil.\n",
        "*   Entre as variáveis Educação e Número de Educação, usamos apenas Número de Educação, pois contém toda a informação presente em Educação.\n",
        "*   Combinou-se ganhos e perdas de capital para torná-lo um único recurso.\n",
        "*   Todos os outros recursos permanecem inalterados.\n"
      ]
    },
    {
      "cell_type": "code",
      "execution_count": null,
      "metadata": {
        "colab": {
          "base_uri": "https://localhost:8080/"
        },
        "id": "Nexcy_IHQXhN",
        "outputId": "573a95e9-e0b2-4495-c1ea-330fff549781"
      },
      "outputs": [
        {
          "name": "stdout",
          "output_type": "stream",
          "text": [
            "<class 'pandas.core.frame.DataFrame'>\n",
            "Index: 39980 entries, 0 to 48840\n",
            "Data columns (total 13 columns):\n",
            " #   Column          Non-Null Count  Dtype \n",
            "---  ------          --------------  ----- \n",
            " 0   age             39980 non-null  int64 \n",
            " 1   workclass       39980 non-null  object\n",
            " 2   education-num   39980 non-null  int64 \n",
            " 3   marital-status  39980 non-null  object\n",
            " 4   occupation      39980 non-null  object\n",
            " 5   relationship    39980 non-null  object\n",
            " 6   race            39980 non-null  object\n",
            " 7   sex             39980 non-null  object\n",
            " 8   capital-gain    39980 non-null  int64 \n",
            " 9   capital-loss    39980 non-null  int64 \n",
            " 10  hours-per-week  39980 non-null  int64 \n",
            " 11  native-country  39980 non-null  object\n",
            " 12  income          39980 non-null  object\n",
            "dtypes: int64(5), object(8)\n",
            "memory usage: 4.3+ MB\n"
          ]
        }
      ],
      "source": [
        "# Removendo ouliers da variável ganho de capital\n",
        "#outliers= data[data['capital-gain'] > 40000].index\n",
        "#data= data.drop(outliers)\n",
        "\n",
        "# Removendo linhas com valores faltantes ou duplicadas\n",
        "dados_extendidos= dados_extendidos.dropna(how='any', axis=0)\n",
        "dados_extendidos= dados_extendidos.drop_duplicates()\n",
        "\n",
        "# Removendo as colunas fnlwgt e education\n",
        "#data= data.drop('fnlwgt', axis=1)\n",
        "dados_extendidos= dados_extendidos.drop(columns='education')\n",
        "\n",
        "# Combinando as colunas ganho e perda de capital em uma única coluna\n",
        "#data['capital-gain'] = data.apply(lambda capital: (capital['capital-gain'] - capital['capital-loss']), axis=1)\n",
        "\n",
        "# Removendo demais colunas desnecessárias\n",
        "#data= data.drop(columns='capital-loss')\n",
        "#data= data.drop(columns='age-range')\n",
        "#data= data.drop(columns='h/w-range')\n",
        "\n",
        "# verificando o novo dataset\n",
        "dados_extendidos.info()"
      ]
    },
    {
      "cell_type": "markdown",
      "metadata": {
        "id": "f4DM5yJKStJU"
      },
      "source": [
        "Verifica-se que não há colunas com valores nulos.\n",
        "Pode-se portanto verificar as estatísticas descritivas das colunas numéricas restantes."
      ]
    },
    {
      "cell_type": "code",
      "execution_count": null,
      "metadata": {
        "colab": {
          "base_uri": "https://localhost:8080/",
          "height": 300
        },
        "id": "KUwtvAQrSt1H",
        "outputId": "5e2f776d-ada8-487d-fec7-cecf12515702"
      },
      "outputs": [
        {
          "data": {
            "text/html": [
              "<div>\n",
              "<style scoped>\n",
              "    .dataframe tbody tr th:only-of-type {\n",
              "        vertical-align: middle;\n",
              "    }\n",
              "\n",
              "    .dataframe tbody tr th {\n",
              "        vertical-align: top;\n",
              "    }\n",
              "\n",
              "    .dataframe thead th {\n",
              "        text-align: right;\n",
              "    }\n",
              "</style>\n",
              "<table border=\"1\" class=\"dataframe\">\n",
              "  <thead>\n",
              "    <tr style=\"text-align: right;\">\n",
              "      <th></th>\n",
              "      <th>age</th>\n",
              "      <th>education-num</th>\n",
              "      <th>capital-gain</th>\n",
              "      <th>capital-loss</th>\n",
              "      <th>hours-per-week</th>\n",
              "    </tr>\n",
              "  </thead>\n",
              "  <tbody>\n",
              "    <tr>\n",
              "      <th>count</th>\n",
              "      <td>39980.00</td>\n",
              "      <td>39980.00</td>\n",
              "      <td>39980.00</td>\n",
              "      <td>39980.00</td>\n",
              "      <td>39980.00</td>\n",
              "    </tr>\n",
              "    <tr>\n",
              "      <th>mean</th>\n",
              "      <td>39.31</td>\n",
              "      <td>10.15</td>\n",
              "      <td>1267.26</td>\n",
              "      <td>101.34</td>\n",
              "      <td>41.21</td>\n",
              "    </tr>\n",
              "    <tr>\n",
              "      <th>std</th>\n",
              "      <td>13.28</td>\n",
              "      <td>2.65</td>\n",
              "      <td>8081.00</td>\n",
              "      <td>431.67</td>\n",
              "      <td>12.46</td>\n",
              "    </tr>\n",
              "    <tr>\n",
              "      <th>min</th>\n",
              "      <td>17.00</td>\n",
              "      <td>1.00</td>\n",
              "      <td>0.00</td>\n",
              "      <td>0.00</td>\n",
              "      <td>1.00</td>\n",
              "    </tr>\n",
              "    <tr>\n",
              "      <th>25%</th>\n",
              "      <td>29.00</td>\n",
              "      <td>9.00</td>\n",
              "      <td>0.00</td>\n",
              "      <td>0.00</td>\n",
              "      <td>40.00</td>\n",
              "    </tr>\n",
              "    <tr>\n",
              "      <th>50%</th>\n",
              "      <td>38.00</td>\n",
              "      <td>10.00</td>\n",
              "      <td>0.00</td>\n",
              "      <td>0.00</td>\n",
              "      <td>40.00</td>\n",
              "    </tr>\n",
              "    <tr>\n",
              "      <th>75%</th>\n",
              "      <td>48.00</td>\n",
              "      <td>13.00</td>\n",
              "      <td>0.00</td>\n",
              "      <td>0.00</td>\n",
              "      <td>45.00</td>\n",
              "    </tr>\n",
              "    <tr>\n",
              "      <th>max</th>\n",
              "      <td>90.00</td>\n",
              "      <td>16.00</td>\n",
              "      <td>99999.00</td>\n",
              "      <td>4356.00</td>\n",
              "      <td>99.00</td>\n",
              "    </tr>\n",
              "  </tbody>\n",
              "</table>\n",
              "</div>"
            ],
            "text/plain": [
              "           age  education-num  capital-gain  capital-loss  hours-per-week\n",
              "count 39980.00       39980.00      39980.00      39980.00        39980.00\n",
              "mean     39.31          10.15       1267.26        101.34           41.21\n",
              "std      13.28           2.65       8081.00        431.67           12.46\n",
              "min      17.00           1.00          0.00          0.00            1.00\n",
              "25%      29.00           9.00          0.00          0.00           40.00\n",
              "50%      38.00          10.00          0.00          0.00           40.00\n",
              "75%      48.00          13.00          0.00          0.00           45.00\n",
              "max      90.00          16.00      99999.00       4356.00           99.00"
            ]
          },
          "execution_count": 38,
          "metadata": {},
          "output_type": "execute_result"
        }
      ],
      "source": [
        "dados_extendidos.describe()"
      ]
    },
    {
      "cell_type": "markdown",
      "metadata": {
        "id": "8ABZ2MIkTBff"
      },
      "source": [
        "Pode-se então verificar como ficaram as correlações após as alterações feitas nos atributos."
      ]
    },
    {
      "cell_type": "code",
      "execution_count": null,
      "metadata": {
        "colab": {
          "base_uri": "https://localhost:8080/",
          "height": 834
        },
        "id": "7L0xnH_gTAdi",
        "outputId": "0dd980aa-3ebf-4461-adf0-df28d882c37b"
      },
      "outputs": [
        {
          "data": {
            "image/png": "[encoded data removed]",
            "text/plain": [
              "<Figure size 640x480 with 2 Axes>"
            ]
          },
          "metadata": {},
          "output_type": "display_data"
        }
      ],
      "source": [
        "correlacao_nova =dados_extendidos[['age', 'education-num', 'capital-gain', 'hours-per-week']].corr()\n",
        "\n",
        "heatMap(correlacao_nova)"
      ]
    },
    {
      "cell_type": "markdown",
      "metadata": {
        "id": "rqsReYgmTdQJ"
      },
      "source": [
        "##### **Observações:**"
      ]
    },
    {
      "cell_type": "markdown",
      "metadata": {
        "id": "LE7UqtlWTh7t"
      },
      "source": [
        "*   Houve uma melhora significativa nas correlações dos dados numéricos.\n",
        "*   Pode-se, então, seguir para a construção do modelo.\n",
        "\n"
      ]
    },
    {
      "cell_type": "markdown",
      "metadata": {
        "id": "yQXQherWTu4L"
      },
      "source": [
        "# **7. Construção do modelo**"
      ]
    },
    {
      "cell_type": "markdown",
      "metadata": {
        "id": "FqH07ryTUToy"
      },
      "source": [
        "Importando os elementos necessários do Sci-Kit Learn."
      ]
    },
    {
      "cell_type": "code",
      "execution_count": null,
      "metadata": {
        "id": "PALf_8mMJlE7"
      },
      "outputs": [],
      "source": [
        "from sklearn.model_selection import KFold, GridSearchCV, cross_val_score, cross_val_predict\n",
        "cv = KFold(6)\n",
        "from sklearn.metrics import (accuracy_score, precision_score, recall_score, f1_score, roc_auc_score, classification_report, confusion_matrix)\n",
        "from sklearn.preprocessing import StandardScaler\n",
        "from sklearn.preprocessing import RobustScaler\n",
        "\n",
        "model = []\n",
        "accuracy = []\n",
        "f1 = []\n",
        "auc = []"
      ]
    },
    {
      "cell_type": "code",
      "execution_count": null,
      "metadata": {
        "colab": {
          "base_uri": "https://localhost:8080/",
          "height": 478
        },
        "id": "uJm-Scb6JlE7",
        "outputId": "b91816f5-c5d1-4b56-844a-b863639dbe93"
      },
      "outputs": [],
      "source": [
        "data = pd.get_dummies(data, drop_first=True)\n",
        "data"
      ]
    },
    {
      "cell_type": "markdown",
      "metadata": {
        "id": "tiVnS6CMUkHP"
      },
      "source": [
        "Gerando os datasets de treino e normalizando os dados."
      ]
    },
    {
      "cell_type": "code",
      "execution_count": null,
      "metadata": {
        "id": "EcBpJ5DHJlE8"
      },
      "outputs": [],
      "source": [
        "# Dividindo o dataset\n",
        "X = data[data.columns[:-1]]\n",
        "y = data[data.columns[-1]]\n"
      ]
    },
    {
      "cell_type": "code",
      "execution_count": null,
      "metadata": {},
      "outputs": [],
      "source": [
        "from imblearn.over_sampling import SMOTE\n",
        "# Cria o balanceador SMOTE\n",
        "smote_bal = SMOTE(random_state = 42)\n",
        "X_res,y_res = smote_bal.fit_resample(X,y)"
      ]
    },
    {
      "cell_type": "code",
      "execution_count": null,
      "metadata": {},
      "outputs": [],
      "source": []
    },
    {
      "cell_type": "code",
      "execution_count": null,
      "metadata": {
        "id": "radR0p5qhNEP"
      },
      "outputs": [],
      "source": [
        "# Normalizando os dados\n",
        "\n",
        "scaler = StandardScaler().fit(X)\n",
        "x_scaled = scaler.transform(X)"
      ]
    },
    {
      "cell_type": "markdown",
      "metadata": {
        "id": "0HVkhdWRWnsO"
      },
      "source": [
        "Importando modelo de Classificador por Árvore de Decisões"
      ]
    },
    {
      "cell_type": "code",
      "execution_count": null,
      "metadata": {
        "id": "0eb8QFI0nJkd"
      },
      "outputs": [],
      "source": [
        "from sklearn.tree import DecisionTreeClassifier, plot_tree\n",
        "\n",
        "tree_clf_income = DecisionTreeClassifier(random_state=42,criterion=\"gini\",splitter='best')\n",
        "tree_clf_income.fit(X_res,y_res)\n",
        "\n",
        "#param_grid = {'max_depth': [5, 10, 50, 100, None],\n",
        "#              'criterion': ['gini','entropy']}\n",
        "#grid2 = GridSearchCV(dtc, param_grid, cv=cv).fit(x_scaled, y)\n",
        "#print(\"DTC: \", grid2.best_score_, grid2.best_params_)\n"
      ]
    },
    {
      "cell_type": "code",
      "execution_count": null,
      "metadata": {},
      "outputs": [],
      "source": [
        "fig,ax = plt.subplots(figsize=(30,30))\n",
        "plot_tree(tree_clf_income,ax=ax,feature_names=X.columns,\n",
        "        rounded=True,filled=True,precision=2,class_names=['Pobre','Rico'])\n",
        "plt.show()"
      ]
    },
    {
      "cell_type": "code",
      "execution_count": null,
      "metadata": {},
      "outputs": [],
      "source": [
        "tree_clf_income.get_depth()"
      ]
    },
    {
      "cell_type": "code",
      "execution_count": null,
      "metadata": {},
      "outputs": [],
      "source": [
        "from sklearn.metrics import classification_report\n",
        "print(classification_report(y,tree_clf_income.predict(X)))"
      ]
    },
    {
      "cell_type": "markdown",
      "metadata": {
        "id": "FbC3TAVFJlE_"
      },
      "source": [
        "# **8. Aplicação do modelo aos dataset de testes**"
      ]
    },
    {
      "cell_type": "markdown",
      "metadata": {
        "id": "XWUMzPYvYLX0"
      },
      "source": [
        "Carregando o dataset de testes."
      ]
    },
    {
      "cell_type": "code",
      "execution_count": null,
      "metadata": {
        "id": "rCc7KMOeJlE_"
      },
      "outputs": [],
      "source": [
        "test= pd.read_csv('data/adult.test', sep=', ', names=colunas, na_values='?', engine='python', skiprows=1)\n",
        "test.info()"
      ]
    },
    {
      "cell_type": "markdown",
      "metadata": {
        "id": "LTXzYhteYQzt"
      },
      "source": [
        "Processando o dataset de testes"
      ]
    },
    {
      "cell_type": "code",
      "execution_count": null,
      "metadata": {
        "id": "GLTHeDF8JlFA"
      },
      "outputs": [],
      "source": [
        "test= test.dropna(how='any', axis=0)\n",
        "test= test.drop_duplicates()\n",
        "test= test.drop('fnlwgt', axis=1)\n",
        "test= test.drop(columns='education')\n",
        "\n",
        "test['capital-gain']= test.apply(lambda x: (x['capital-gain'] - x['capital-loss']), axis=1)\n",
        "test= test.drop(columns='capital-loss')\n",
        "\n",
        "test.info()"
      ]
    },
    {
      "cell_type": "markdown",
      "metadata": {
        "id": "ujKEQE8rYsZO"
      },
      "source": [
        "Realizando engenharia de atributos no dataset de testes."
      ]
    },
    {
      "cell_type": "code",
      "execution_count": null,
      "metadata": {
        "id": "6S8j1ycYJlFA"
      },
      "outputs": [],
      "source": [
        "test['workclass'].replace(['State-gov', 'Federal-gov', 'Local-gov'], 'Government', inplace=True)\n",
        "test['workclass'].replace(['Self-emp-not-inc', 'Self-emp-inc'], 'Self', inplace=True)\n",
        "test['workclass'].replace(['Without-pay', 'Never-worked'], 'Others', inplace=True)\n",
        "\n",
        "test['marital-status'].replace(['Married-AF-spouse', 'Married-civ-spouse', 'Married-spouse-absent'], 'Married', inplace=True)\n",
        "test['marital-status'].replace('Divorced', 'Separated',inplace=True)\n",
        "\n",
        "test['occupation'].replace(['Tech-support', 'Craft-repair', 'Handlers-cleaners', 'Transport-moving', 'Machine-op-inspct'], 'Blue-collar', inplace=True)\n",
        "test['occupation'].replace(['Exec-managerial', 'Adm-clerical'], 'White-collar', inplace=True)\n",
        "test['occupation'].replace('Prof-specialty', 'Gold-collar', inplace=True)\n",
        "test['occupation'].replace(['Other-service', 'Sales', 'Priv-house-serv', 'Protective-serv'], 'Pink-collar', inplace=True)\n",
        "test['occupation'].replace('Farming-fishing', 'Green-collar', inplace=True)\n",
        "test['occupation'].replace('Armed-Forces', 'Brown-collar', inplace=True)\n",
        "\n",
        "test['native-country']= test['native-country'].map(lambda country: 'US' if country == 'United-States' else 'Other')"
      ]
    },
    {
      "cell_type": "code",
      "execution_count": null,
      "metadata": {
        "id": "KXUlXoMhJlFA"
      },
      "outputs": [],
      "source": [
        "test = pd.get_dummies(test, drop_first=True)\n",
        "test"
      ]
    },
    {
      "cell_type": "markdown",
      "metadata": {
        "id": "5jG7qXuXZCuA"
      },
      "source": [
        "Preparando o dataset de testes para rodar o modelo."
      ]
    },
    {
      "cell_type": "code",
      "execution_count": null,
      "metadata": {
        "id": "jMYKvoFfJlFA"
      },
      "outputs": [],
      "source": [
        "Xtest = test[test.columns[:-1]]\n",
        "ytest = test[test.columns[-1]]\n",
        "\n",
        "scaler = StandardScaler().fit(Xtest)\n",
        "xtest_scaled = scaler.transform(Xtest)"
      ]
    },
    {
      "cell_type": "code",
      "execution_count": null,
      "metadata": {},
      "outputs": [],
      "source": [
        "ytest.value_counts()"
      ]
    },
    {
      "cell_type": "code",
      "execution_count": null,
      "metadata": {},
      "outputs": [],
      "source": [
        "sns.histplot(ytest)"
      ]
    },
    {
      "cell_type": "code",
      "execution_count": null,
      "metadata": {
        "id": "2hcZHJ5qJlFA"
      },
      "outputs": [],
      "source": [
        "xtest_scaled.shape"
      ]
    },
    {
      "cell_type": "markdown",
      "metadata": {
        "id": "bAbDxH03ZNYq"
      },
      "source": [
        "Rodando o modelo para gerar previsões"
      ]
    },
    {
      "cell_type": "code",
      "execution_count": null,
      "metadata": {
        "id": "AtGluAMDJlFB"
      },
      "outputs": [],
      "source": [
        "print('Conjunto de Teste:')\n",
        "print(classification_report(ytest,tree_clf_income.predict(Xtest)))"
      ]
    },
    {
      "cell_type": "code",
      "execution_count": null,
      "metadata": {},
      "outputs": [],
      "source": [
        "tree_clf_income.__dict__"
      ]
    },
    {
      "cell_type": "code",
      "execution_count": null,
      "metadata": {},
      "outputs": [],
      "source": [
        "print(tree_clf_income.feature_importances_)"
      ]
    },
    {
      "cell_type": "code",
      "execution_count": null,
      "metadata": {},
      "outputs": [],
      "source": [
        "np.where(tree_clf_income.feature_importances_ > 0.2)[0]"
      ]
    },
    {
      "cell_type": "code",
      "execution_count": null,
      "metadata": {},
      "outputs": [],
      "source": [
        "tree_clf_income.feature_names_in_[7]"
      ]
    }
  ],
  "metadata": {
    "colab": {
      "provenance": []
    },
    "kernelspec": {
      "display_name": "Python 3 (ipykernel)",
      "language": "python",
      "name": "python3"
    },
    "language_info": {
      "codemirror_mode": {
        "name": "ipython",
        "version": 3
      },
      "file_extension": ".py",
      "mimetype": "text/x-python",
      "name": "python",
      "nbconvert_exporter": "python",
      "pygments_lexer": "ipython3",
      "version": "3.11.0"
    }
  },
  "nbformat": 4,
  "nbformat_minor": 0
}
